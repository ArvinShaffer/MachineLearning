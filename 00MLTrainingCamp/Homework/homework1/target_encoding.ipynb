{
 "metadata": {
  "language_info": {
   "codemirror_mode": {
    "name": "ipython",
    "version": 3
   },
   "file_extension": ".py",
   "mimetype": "text/x-python",
   "name": "python",
   "nbconvert_exporter": "python",
   "pygments_lexer": "ipython3",
   "version": "3.8.0"
  },
  "orig_nbformat": 2,
  "kernelspec": {
   "name": "python380jvsc74a57bd0a1a980e4d08a09363675ce238ef5f766a16271fc05c857c8e268b6a469852b74",
   "display_name": "Python 3.8.0 64-bit"
  },
  "metadata": {
   "interpreter": {
    "hash": "a1a980e4d08a09363675ce238ef5f766a16271fc05c857c8e268b6a469852b74"
   }
  }
 },
 "nbformat": 4,
 "nbformat_minor": 2,
 "cells": [
  {
   "cell_type": "code",
   "execution_count": 38,
   "metadata": {},
   "outputs": [
    {
     "output_type": "stream",
     "name": "stdout",
     "text": [
      "The Cython extension is already loaded. To reload it, use:\n  %reload_ext Cython\n"
     ]
    }
   ],
   "source": [
    "%load_ext Cython  "
   ]
  },
  {
   "cell_type": "code",
   "execution_count": 39,
   "metadata": {},
   "outputs": [],
   "source": [
    "%reload_ext Cython"
   ]
  },
  {
   "cell_type": "code",
   "execution_count": 40,
   "metadata": {},
   "outputs": [],
   "source": [
    "import numpy as np\n",
    "import pandas as pd\n"
   ]
  },
  {
   "cell_type": "code",
   "execution_count": 41,
   "metadata": {},
   "outputs": [],
   "source": [
    "\n",
    "def target_mean_v1(data, y_name, x_name):\n",
    "    result = np.zeros(data.shape[0])\n",
    "    for i in range(data.shape[0]):\n",
    "        groupby_result = data[data.index != i].groupby([x_name], as_index=False).agg(['mean', 'count'])\n",
    "        result[i] = groupby_result.loc[groupby_result.index == data.loc[i, x_name], (y_name, 'mean')]\n",
    "    return result"
   ]
  },
  {
   "cell_type": "code",
   "execution_count": 42,
   "metadata": {},
   "outputs": [],
   "source": [
    "def target_mean_v2(data, y_name, x_name):\n",
    "    result = np.zeros(data.shape[0])\n",
    "    value_dict = dict()\n",
    "    count_dict = dict()\n",
    "    for i in range(data.shape[0]):\n",
    "        if data.loc[i, x_name] not in value_dict.keys():\n",
    "            value_dict[data.loc[i, x_name]] = data.loc[i, y_name]\n",
    "            count_dict[data.loc[i, x_name]] = 1\n",
    "        else:\n",
    "            value_dict[data.loc[i, x_name]] += data.loc[i, y_name]\n",
    "            count_dict[data.loc[i, x_name]] += 1\n",
    "    for i in range(data.shape[0]):\n",
    "        result[i] = (value_dict[data.loc[i, x_name]] - data.loc[i, y_name]) / (count_dict[data.loc[i, x_name]] - 1)\n",
    "    return result"
   ]
  },
  {
   "cell_type": "code",
   "execution_count": 43,
   "metadata": {},
   "outputs": [],
   "source": [
    "y = np.random.randint(2, size=(5000, 1))\n",
    "x = np.random.randint(10, size=(5000, 1))"
   ]
  },
  {
   "cell_type": "code",
   "execution_count": 44,
   "metadata": {},
   "outputs": [],
   "source": [
    "data = pd.DataFrame(np.concatenate([y, x], axis=1), columns=['y', 'x'])"
   ]
  },
  {
   "cell_type": "code",
   "execution_count": 45,
   "metadata": {},
   "outputs": [
    {
     "output_type": "stream",
     "name": "stderr",
     "text": [
      "\nError compiling Cython file:\n------------------------------------------------------------\n...\n\nimport numpy as np\ncimport numpy as cnp\ncpdef target_mean_v3(data, y_name, x_name):\n    cdef long nrow = data.shape[0]\n    cdef np.ndarray[double] result = np.asfortranarray(np.zeros(nrow), dtype=np.float64)\n        ^\n------------------------------------------------------------\n\n/home/icuipi/.cache/ipython/cython/_cython_magic_70c3025850623a6cc3c7cbe97e1a8a70.pyx:8:9: 'np' is not a cimported module\n\nError compiling Cython file:\n------------------------------------------------------------\n...\nimport numpy as np\ncimport numpy as cnp\ncpdef target_mean_v3(data, y_name, x_name):\n    cdef long nrow = data.shape[0]\n    cdef np.ndarray[double] result = np.asfortranarray(np.zeros(nrow), dtype=np.float64)\n    cdef np.ndarray[double] y = np.asfortranarray(data[y_name], dtype=np.float64)\n        ^\n------------------------------------------------------------\n\n/home/icuipi/.cache/ipython/cython/_cython_magic_70c3025850623a6cc3c7cbe97e1a8a70.pyx:9:9: 'np' is not a cimported module\n\nError compiling Cython file:\n------------------------------------------------------------\n...\ncimport numpy as cnp\ncpdef target_mean_v3(data, y_name, x_name):\n    cdef long nrow = data.shape[0]\n    cdef np.ndarray[double] result = np.asfortranarray(np.zeros(nrow), dtype=np.float64)\n    cdef np.ndarray[double] y = np.asfortranarray(data[y_name], dtype=np.float64)\n    cdef np.ndarray[double] x = np.asfortranarray(data[x_name], dtype=np.float64)\n        ^\n------------------------------------------------------------\n\n/home/icuipi/.cache/ipython/cython/_cython_magic_70c3025850623a6cc3c7cbe97e1a8a70.pyx:10:9: 'np' is not a cimported module\n"
     ]
    }
   ],
   "source": [
    "%%cython --cplus \n",
    "from cython.operator cimport dereference as deref, preincrement as inc\n",
    "from libcpp.unordered_map cimport unordered_map\n",
    "\n",
    "import numpy as np\n",
    "cimport numpy as cnp\n",
    "cpdef target_mean_v3(data, y_name, x_name):\n",
    "    cdef long nrow = data.shape[0]\n",
    "    cdef np.ndarray[double] result = np.asfortranarray(np.zeros(nrow), dtype=np.float64)\n",
    "    cdef np.ndarray[double] y = np.asfortranarray(data[y_name], dtype=np.float64)\n",
    "    cdef np.ndarray[double] x = np.asfortranarray(data[x_name], dtype=np.float64)\n",
    "\n",
    "    target_mean_v3_impl(result, y, x, nrow)\n",
    "    return result\n",
    "\n",
    "cdef void target_mean_v3_impl(double[:] result, double[:] y, double[:] x, const long nrow):\n",
    "    cdef dict value_dict = dict()\n",
    "    cdef dict count_dict = dict()\n",
    "\n",
    "    cdef long i\n",
    "    for i in range(nrow):\n",
    "        if x[i] not in value_dict.keys():\n",
    "            value_dict[x[i]] = y[i]\n",
    "            count_dict[x[i]] = 1\n",
    "        else:\n",
    "            value_dict[x[i]] += y[i]\n",
    "            count_dict[x[i]] += 1\n",
    "\n",
    "    i=0\n",
    "    for i in range(nrow):\n",
    "        result[i] = (value_dict[x[i]] - y[i])/(count_dict[x[i]]-1)"
   ]
  },
  {
   "cell_type": "code",
   "execution_count": 46,
   "metadata": {
    "tags": []
   },
   "outputs": [],
   "source": [
    "%%cython --cplus \n",
    "from cython.operator cimport dereference as deref, preincrement as inc\n",
    "from libcpp.unordered_map cimport unordered_map\n",
    "\n",
    "import numpy as np\n",
    "cimport numpy as cnp\n",
    "\n",
    "\n",
    "cpdef target_mean_v4(data, y_name, x_name):\n",
    "    cdef long nrow = data.shape[0]\n",
    "    cdef cnp.ndarray[double] result = np.asfortranarray(np.zeros(nrow), dtype=np.float64)\n",
    "    cdef cnp.ndarray[double] y = np.asfortranarray(data[y_name], dtype=np.float64)\n",
    "    cdef cnp.ndarray[double] x = np.asfortranarray(data[x_name], dtype=np.float64)\n",
    "\n",
    "    target_mean_v4_impl(result, y, x, nrow)\n",
    "    return result\n",
    "\n",
    "cdef void target_mean_v4_impl(double[:] result, double[:] y, double[:] x, const long nrow):\n",
    "    cdef unordered_map[double, double] value\n",
    "    cdef unordered_map[double, double] count\n",
    "\n",
    "    cdef long i\n",
    "    for i in range(nrow):\n",
    "        if value.find(x[i]) == value.end():\n",
    "            value[x[i]] = y[i]\n",
    "            count[x[i]] = 1\n",
    "        else:\n",
    "            value[x[i]] += y[i]\n",
    "            count[x[i]] += 1\n",
    "\n",
    "    i=0\n",
    "    for i in range(nrow):\n",
    "        result[i] = (value[x[i]] - y[i])/(count[x[i]]-1)"
   ]
  },
  {
   "cell_type": "code",
   "execution_count": 47,
   "metadata": {},
   "outputs": [],
   "source": [
    "#%%timeit\n",
    "#result_1 = target_mean_v1(data, 'y', 'x')"
   ]
  },
  {
   "cell_type": "code",
   "execution_count": 48,
   "metadata": {},
   "outputs": [
    {
     "output_type": "stream",
     "name": "stdout",
     "text": [
      "223 ms ± 4.88 ms per loop (mean ± std. dev. of 7 runs, 1 loop each)\n"
     ]
    }
   ],
   "source": [
    "%%timeit\n",
    "result_2 = target_mean_v2(data, 'y', 'x')"
   ]
  },
  {
   "cell_type": "code",
   "execution_count": 49,
   "metadata": {},
   "outputs": [
    {
     "output_type": "stream",
     "name": "stdout",
     "text": [
      "412 µs ± 7.56 µs per loop (mean ± std. dev. of 7 runs, 1000 loops each)\n"
     ]
    }
   ],
   "source": [
    "%%timeit\n",
    "result_3 = target_mean_v3(data, 'y', 'x')"
   ]
  },
  {
   "cell_type": "code",
   "execution_count": 50,
   "metadata": {},
   "outputs": [
    {
     "output_type": "stream",
     "name": "stdout",
     "text": [
      "411 µs ± 7.37 µs per loop (mean ± std. dev. of 7 runs, 1000 loops each)\n"
     ]
    }
   ],
   "source": [
    "%%timeit\n",
    "result_4 = target_mean_v4(data, 'y', 'x')"
   ]
  },
  {
   "cell_type": "code",
   "execution_count": null,
   "metadata": {},
   "outputs": [],
   "source": []
  }
 ]
}