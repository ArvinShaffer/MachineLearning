{
  "nbformat": 4,
  "nbformat_minor": 0,
  "metadata": {
    "colab": {
      "name": "geek_bang_chap07.ipynb",
      "provenance": []
    },
    "kernelspec": {
      "name": "python3",
      "display_name": "Python 3"
    }
  },
  "cells": [
    {
      "cell_type": "markdown",
      "metadata": {
        "id": "DjCilgClZfmR"
      },
      "source": [
        "# Lending Club\n",
        "---\n",
        "\n",
        "Here we document our experiment with lending club data set.\n"
      ]
    },
    {
      "cell_type": "code",
      "metadata": {
        "id": "w9mAYyNpeVu5"
      },
      "source": [
        "import numpy as np"
      ],
      "execution_count": 2,
      "outputs": []
    },
    {
      "cell_type": "code",
      "metadata": {
        "colab": {
          "base_uri": "https://localhost:8080/"
        },
        "id": "TDRr3EO5Zn7x",
        "outputId": "9377c7d0-bafe-47be-fcfa-c664276151a1"
      },
      "source": [
        "!wget https://storage.googleapis.com/open_data_file/final.zip"
      ],
      "execution_count": 3,
      "outputs": [
        {
          "output_type": "stream",
          "text": [
            "--2021-07-11 21:52:48--  https://storage.googleapis.com/open_data_file/final.zip\n",
            "Resolving storage.googleapis.com (storage.googleapis.com)... 142.250.101.128, 142.251.2.128, 142.250.141.128, ...\n",
            "Connecting to storage.googleapis.com (storage.googleapis.com)|142.250.101.128|:443... connected.\n",
            "HTTP request sent, awaiting response... 200 OK\n",
            "Length: 3996933 (3.8M) [application/x-zip-compressed]\n",
            "Saving to: ‘final.zip’\n",
            "\n",
            "\rfinal.zip             0%[                    ]       0  --.-KB/s               \rfinal.zip           100%[===================>]   3.81M  --.-KB/s    in 0.02s   \n",
            "\n",
            "2021-07-11 21:52:48 (193 MB/s) - ‘final.zip’ saved [3996933/3996933]\n",
            "\n"
          ],
          "name": "stdout"
        }
      ]
    },
    {
      "cell_type": "code",
      "metadata": {
        "colab": {
          "base_uri": "https://localhost:8080/"
        },
        "id": "2kqGiwZlZwGc",
        "outputId": "472399df-ea15-4dce-8d99-6b3e66f6e8cb"
      },
      "source": [
        "!ls"
      ],
      "execution_count": 4,
      "outputs": [
        {
          "output_type": "stream",
          "text": [
            "final.zip  sample_data\n"
          ],
          "name": "stdout"
        }
      ]
    },
    {
      "cell_type": "code",
      "metadata": {
        "colab": {
          "base_uri": "https://localhost:8080/"
        },
        "id": "xwZ0P0ejZys5",
        "outputId": "6531a11c-5e46-4f69-c3ed-1bb458798cdb"
      },
      "source": [
        "!unzip final.zip"
      ],
      "execution_count": 5,
      "outputs": [
        {
          "output_type": "stream",
          "text": [
            "Archive:  final.zip\n",
            "   creating: final/\n",
            "  inflating: final/test_final.csv    \n",
            "  inflating: final/Description.xlsx  \n",
            "  inflating: __MACOSX/final/._Description.xlsx  \n",
            "  inflating: final/train_final.csv   \n"
          ],
          "name": "stdout"
        }
      ]
    },
    {
      "cell_type": "code",
      "metadata": {
        "id": "KKMlEA9oZ18Z"
      },
      "source": [
        "import pandas as pd\n",
        "train = pd.read_csv(\"final/train_final.csv\", engine='python')\n",
        "test = pd.read_csv(\"final/test_final.csv\", engine='python')"
      ],
      "execution_count": 6,
      "outputs": []
    },
    {
      "cell_type": "code",
      "metadata": {
        "colab": {
          "base_uri": "https://localhost:8080/"
        },
        "id": "u8enl_O1aACN",
        "outputId": "db9763ea-e024-4145-994e-5177fd77a10f"
      },
      "source": [
        "[x for x in train.columns.to_list() if x.startswith('continuous')]"
      ],
      "execution_count": 7,
      "outputs": [
        {
          "output_type": "execute_result",
          "data": {
            "text/plain": [
              "['continuous_annual_inc',\n",
              " 'continuous_annual_inc_joint',\n",
              " 'continuous_delinq_2yrs',\n",
              " 'continuous_dti',\n",
              " 'continuous_dti_joint',\n",
              " 'continuous_fico_range_high',\n",
              " 'continuous_fico_range_low',\n",
              " 'continuous_funded_amnt',\n",
              " 'continuous_funded_amnt_inv',\n",
              " 'continuous_inq_last_6mths',\n",
              " 'continuous_installment',\n",
              " 'continuous_int_rate',\n",
              " 'continuous_last_fico_range_high',\n",
              " 'continuous_last_fico_range_low',\n",
              " 'continuous_loan_amnt',\n",
              " 'continuous_mths_since_last_delinq',\n",
              " 'continuous_mths_since_last_major_derog',\n",
              " 'continuous_mths_since_last_record',\n",
              " 'continuous_open_acc',\n",
              " 'continuous_pub_rec']"
            ]
          },
          "metadata": {
            "tags": []
          },
          "execution_count": 7
        }
      ]
    },
    {
      "cell_type": "code",
      "metadata": {
        "colab": {
          "base_uri": "https://localhost:8080/"
        },
        "id": "7hBUA0qWaNBM",
        "outputId": "1be8dedc-3548-4c3b-845c-b74a00e65fbc"
      },
      "source": [
        "train['continuous_loan_amnt'].describe(percentiles=np.arange(0, 1, 0.05))"
      ],
      "execution_count": 8,
      "outputs": [
        {
          "output_type": "execute_result",
          "data": {
            "text/plain": [
              "count    50000.00000\n",
              "mean     14332.53650\n",
              "std       8617.58487\n",
              "min       1000.00000\n",
              "0%        1000.00000\n",
              "5%        3000.00000\n",
              "10%       4800.00000\n",
              "15%       5500.00000\n",
              "20%       6300.00000\n",
              "25%       7775.00000\n",
              "30%       8500.00000\n",
              "35%      10000.00000\n",
              "40%      10000.00000\n",
              "45%      11600.00000\n",
              "50%      12000.00000\n",
              "55%      14000.00000\n",
              "60%      15000.00000\n",
              "65%      16000.00000\n",
              "70%      18000.00000\n",
              "75%      20000.00000\n",
              "80%      21000.00000\n",
              "85%      24000.00000\n",
              "90%      28000.00000\n",
              "95%      32000.00000\n",
              "max      35000.00000\n",
              "Name: continuous_loan_amnt, dtype: float64"
            ]
          },
          "metadata": {
            "tags": []
          },
          "execution_count": 8
        }
      ]
    },
    {
      "cell_type": "code",
      "metadata": {
        "colab": {
          "base_uri": "https://localhost:8080/",
          "height": 173
        },
        "id": "xufqQcBdfEi3",
        "outputId": "da9992c1-3954-42a1-fe35-7e736fe52ad6"
      },
      "source": [
        "train[['loan_status', 'continuous_loan_amnt']].groupby('loan_status').describe(percentiles=np.arange(0, 1, 0.1))"
      ],
      "execution_count": 9,
      "outputs": [
        {
          "output_type": "execute_result",
          "data": {
            "text/html": [
              "<div>\n",
              "<style scoped>\n",
              "    .dataframe tbody tr th:only-of-type {\n",
              "        vertical-align: middle;\n",
              "    }\n",
              "\n",
              "    .dataframe tbody tr th {\n",
              "        vertical-align: top;\n",
              "    }\n",
              "\n",
              "    .dataframe thead tr th {\n",
              "        text-align: left;\n",
              "    }\n",
              "\n",
              "    .dataframe thead tr:last-of-type th {\n",
              "        text-align: right;\n",
              "    }\n",
              "</style>\n",
              "<table border=\"1\" class=\"dataframe\">\n",
              "  <thead>\n",
              "    <tr>\n",
              "      <th></th>\n",
              "      <th colspan=\"15\" halign=\"left\">continuous_loan_amnt</th>\n",
              "    </tr>\n",
              "    <tr>\n",
              "      <th></th>\n",
              "      <th>count</th>\n",
              "      <th>mean</th>\n",
              "      <th>std</th>\n",
              "      <th>min</th>\n",
              "      <th>0%</th>\n",
              "      <th>10%</th>\n",
              "      <th>20%</th>\n",
              "      <th>30%</th>\n",
              "      <th>40%</th>\n",
              "      <th>50%</th>\n",
              "      <th>60%</th>\n",
              "      <th>70%</th>\n",
              "      <th>80%</th>\n",
              "      <th>90%</th>\n",
              "      <th>max</th>\n",
              "    </tr>\n",
              "    <tr>\n",
              "      <th>loan_status</th>\n",
              "      <th></th>\n",
              "      <th></th>\n",
              "      <th></th>\n",
              "      <th></th>\n",
              "      <th></th>\n",
              "      <th></th>\n",
              "      <th></th>\n",
              "      <th></th>\n",
              "      <th></th>\n",
              "      <th></th>\n",
              "      <th></th>\n",
              "      <th></th>\n",
              "      <th></th>\n",
              "      <th></th>\n",
              "      <th></th>\n",
              "    </tr>\n",
              "  </thead>\n",
              "  <tbody>\n",
              "    <tr>\n",
              "      <th>0</th>\n",
              "      <td>10212.0</td>\n",
              "      <td>15622.400118</td>\n",
              "      <td>8628.850608</td>\n",
              "      <td>1000.0</td>\n",
              "      <td>1000.0</td>\n",
              "      <td>5000.0</td>\n",
              "      <td>8000.0</td>\n",
              "      <td>10000.0</td>\n",
              "      <td>12000.0</td>\n",
              "      <td>14950.0</td>\n",
              "      <td>16190.0</td>\n",
              "      <td>20000.0</td>\n",
              "      <td>23925.0</td>\n",
              "      <td>28000.0</td>\n",
              "      <td>35000.0</td>\n",
              "    </tr>\n",
              "    <tr>\n",
              "      <th>1</th>\n",
              "      <td>39788.0</td>\n",
              "      <td>14001.479718</td>\n",
              "      <td>8583.597232</td>\n",
              "      <td>1000.0</td>\n",
              "      <td>1000.0</td>\n",
              "      <td>4775.0</td>\n",
              "      <td>6000.0</td>\n",
              "      <td>8000.0</td>\n",
              "      <td>10000.0</td>\n",
              "      <td>12000.0</td>\n",
              "      <td>15000.0</td>\n",
              "      <td>18000.0</td>\n",
              "      <td>21000.0</td>\n",
              "      <td>27200.0</td>\n",
              "      <td>35000.0</td>\n",
              "    </tr>\n",
              "  </tbody>\n",
              "</table>\n",
              "</div>"
            ],
            "text/plain": [
              "            continuous_loan_amnt                ...                  \n",
              "                           count          mean  ...      90%      max\n",
              "loan_status                                     ...                  \n",
              "0                        10212.0  15622.400118  ...  28000.0  35000.0\n",
              "1                        39788.0  14001.479718  ...  27200.0  35000.0\n",
              "\n",
              "[2 rows x 15 columns]"
            ]
          },
          "metadata": {
            "tags": []
          },
          "execution_count": 9
        }
      ]
    },
    {
      "cell_type": "code",
      "metadata": {
        "id": "D8pCHhkygks8"
      },
      "source": [
        "train['discrete_is_loan_10000'] = (train['continuous_loan_amnt']==10000).astype(np.int64)"
      ],
      "execution_count": 10,
      "outputs": []
    },
    {
      "cell_type": "code",
      "metadata": {
        "colab": {
          "base_uri": "https://localhost:8080/"
        },
        "id": "he8ZPjuAhHCX",
        "outputId": "05adaff3-4ba2-478c-bff2-5885e3203e4f"
      },
      "source": [
        "train['discrete_is_loan_10000'].value_counts()"
      ],
      "execution_count": 11,
      "outputs": [
        {
          "output_type": "execute_result",
          "data": {
            "text/plain": [
              "0    46323\n",
              "1     3677\n",
              "Name: discrete_is_loan_10000, dtype: int64"
            ]
          },
          "metadata": {
            "tags": []
          },
          "execution_count": 11
        }
      ]
    },
    {
      "cell_type": "code",
      "metadata": {
        "colab": {
          "base_uri": "https://localhost:8080/",
          "height": 142
        },
        "id": "IbItfNfYhVGf",
        "outputId": "627f34ba-023b-4dcf-b61d-54cde3876061"
      },
      "source": [
        "pd.crosstab(train['discrete_is_loan_10000'],train['loan_status'])"
      ],
      "execution_count": 12,
      "outputs": [
        {
          "output_type": "execute_result",
          "data": {
            "text/html": [
              "<div>\n",
              "<style scoped>\n",
              "    .dataframe tbody tr th:only-of-type {\n",
              "        vertical-align: middle;\n",
              "    }\n",
              "\n",
              "    .dataframe tbody tr th {\n",
              "        vertical-align: top;\n",
              "    }\n",
              "\n",
              "    .dataframe thead th {\n",
              "        text-align: right;\n",
              "    }\n",
              "</style>\n",
              "<table border=\"1\" class=\"dataframe\">\n",
              "  <thead>\n",
              "    <tr style=\"text-align: right;\">\n",
              "      <th>loan_status</th>\n",
              "      <th>0</th>\n",
              "      <th>1</th>\n",
              "    </tr>\n",
              "    <tr>\n",
              "      <th>discrete_is_loan_10000</th>\n",
              "      <th></th>\n",
              "      <th></th>\n",
              "    </tr>\n",
              "  </thead>\n",
              "  <tbody>\n",
              "    <tr>\n",
              "      <th>0</th>\n",
              "      <td>9590</td>\n",
              "      <td>36733</td>\n",
              "    </tr>\n",
              "    <tr>\n",
              "      <th>1</th>\n",
              "      <td>622</td>\n",
              "      <td>3055</td>\n",
              "    </tr>\n",
              "  </tbody>\n",
              "</table>\n",
              "</div>"
            ],
            "text/plain": [
              "loan_status                0      1\n",
              "discrete_is_loan_10000             \n",
              "0                       9590  36733\n",
              "1                        622   3055"
            ]
          },
          "metadata": {
            "tags": []
          },
          "execution_count": 12
        }
      ]
    },
    {
      "cell_type": "code",
      "metadata": {
        "id": "HQnrqoyIjCcq"
      },
      "source": [
        "train_new = train.sample(frac=1)"
      ],
      "execution_count": 13,
      "outputs": []
    },
    {
      "cell_type": "code",
      "metadata": {
        "colab": {
          "base_uri": "https://localhost:8080/",
          "height": 253
        },
        "id": "_94kYP93j3MC",
        "outputId": "2a1f212c-c8cb-4517-d998-d646320125f0"
      },
      "source": [
        "train.head()"
      ],
      "execution_count": 14,
      "outputs": [
        {
          "output_type": "execute_result",
          "data": {
            "text/html": [
              "<div>\n",
              "<style scoped>\n",
              "    .dataframe tbody tr th:only-of-type {\n",
              "        vertical-align: middle;\n",
              "    }\n",
              "\n",
              "    .dataframe tbody tr th {\n",
              "        vertical-align: top;\n",
              "    }\n",
              "\n",
              "    .dataframe thead th {\n",
              "        text-align: right;\n",
              "    }\n",
              "</style>\n",
              "<table border=\"1\" class=\"dataframe\">\n",
              "  <thead>\n",
              "    <tr style=\"text-align: right;\">\n",
              "      <th></th>\n",
              "      <th>continuous_annual_inc</th>\n",
              "      <th>continuous_annual_inc_joint</th>\n",
              "      <th>continuous_delinq_2yrs</th>\n",
              "      <th>continuous_dti</th>\n",
              "      <th>continuous_dti_joint</th>\n",
              "      <th>continuous_fico_range_high</th>\n",
              "      <th>continuous_fico_range_low</th>\n",
              "      <th>continuous_funded_amnt</th>\n",
              "      <th>continuous_funded_amnt_inv</th>\n",
              "      <th>continuous_inq_last_6mths</th>\n",
              "      <th>continuous_installment</th>\n",
              "      <th>continuous_int_rate</th>\n",
              "      <th>continuous_last_fico_range_high</th>\n",
              "      <th>continuous_last_fico_range_low</th>\n",
              "      <th>continuous_loan_amnt</th>\n",
              "      <th>loan_status</th>\n",
              "      <th>continuous_mths_since_last_delinq</th>\n",
              "      <th>continuous_mths_since_last_major_derog</th>\n",
              "      <th>continuous_mths_since_last_record</th>\n",
              "      <th>continuous_open_acc</th>\n",
              "      <th>continuous_pub_rec</th>\n",
              "      <th>discrete_addr_state_1_one_hot</th>\n",
              "      <th>discrete_addr_state_2_one_hot</th>\n",
              "      <th>discrete_addr_state_3_one_hot</th>\n",
              "      <th>discrete_addr_state_4_one_hot</th>\n",
              "      <th>discrete_addr_state_5_one_hot</th>\n",
              "      <th>discrete_addr_state_6_one_hot</th>\n",
              "      <th>discrete_addr_state_7_one_hot</th>\n",
              "      <th>discrete_addr_state_8_one_hot</th>\n",
              "      <th>discrete_addr_state_9_one_hot</th>\n",
              "      <th>discrete_addr_state_10_one_hot</th>\n",
              "      <th>discrete_addr_state_11_one_hot</th>\n",
              "      <th>discrete_addr_state_12_one_hot</th>\n",
              "      <th>discrete_addr_state_13_one_hot</th>\n",
              "      <th>discrete_addr_state_14_one_hot</th>\n",
              "      <th>discrete_addr_state_15_one_hot</th>\n",
              "      <th>discrete_addr_state_16_one_hot</th>\n",
              "      <th>discrete_addr_state_17_one_hot</th>\n",
              "      <th>discrete_addr_state_18_one_hot</th>\n",
              "      <th>discrete_addr_state_19_one_hot</th>\n",
              "      <th>...</th>\n",
              "      <th>discrete_purpose_12_one_hot</th>\n",
              "      <th>discrete_pymnt_plan_1_one_hot</th>\n",
              "      <th>discrete_sub_grade_1_one_hot</th>\n",
              "      <th>discrete_sub_grade_2_one_hot</th>\n",
              "      <th>discrete_sub_grade_3_one_hot</th>\n",
              "      <th>discrete_sub_grade_4_one_hot</th>\n",
              "      <th>discrete_sub_grade_5_one_hot</th>\n",
              "      <th>discrete_sub_grade_6_one_hot</th>\n",
              "      <th>discrete_sub_grade_7_one_hot</th>\n",
              "      <th>discrete_sub_grade_8_one_hot</th>\n",
              "      <th>discrete_sub_grade_9_one_hot</th>\n",
              "      <th>discrete_sub_grade_10_one_hot</th>\n",
              "      <th>discrete_sub_grade_11_one_hot</th>\n",
              "      <th>discrete_sub_grade_12_one_hot</th>\n",
              "      <th>discrete_sub_grade_13_one_hot</th>\n",
              "      <th>discrete_sub_grade_14_one_hot</th>\n",
              "      <th>discrete_sub_grade_15_one_hot</th>\n",
              "      <th>discrete_sub_grade_16_one_hot</th>\n",
              "      <th>discrete_sub_grade_17_one_hot</th>\n",
              "      <th>discrete_sub_grade_18_one_hot</th>\n",
              "      <th>discrete_sub_grade_19_one_hot</th>\n",
              "      <th>discrete_sub_grade_20_one_hot</th>\n",
              "      <th>discrete_sub_grade_21_one_hot</th>\n",
              "      <th>discrete_sub_grade_22_one_hot</th>\n",
              "      <th>discrete_sub_grade_23_one_hot</th>\n",
              "      <th>discrete_sub_grade_24_one_hot</th>\n",
              "      <th>discrete_sub_grade_25_one_hot</th>\n",
              "      <th>discrete_sub_grade_26_one_hot</th>\n",
              "      <th>discrete_sub_grade_27_one_hot</th>\n",
              "      <th>discrete_sub_grade_28_one_hot</th>\n",
              "      <th>discrete_sub_grade_29_one_hot</th>\n",
              "      <th>discrete_sub_grade_30_one_hot</th>\n",
              "      <th>discrete_sub_grade_31_one_hot</th>\n",
              "      <th>discrete_sub_grade_32_one_hot</th>\n",
              "      <th>discrete_sub_grade_33_one_hot</th>\n",
              "      <th>discrete_sub_grade_34_one_hot</th>\n",
              "      <th>discrete_sub_grade_35_one_hot</th>\n",
              "      <th>discrete_term_1_one_hot</th>\n",
              "      <th>discrete_term_2_one_hot</th>\n",
              "      <th>discrete_is_loan_10000</th>\n",
              "    </tr>\n",
              "  </thead>\n",
              "  <tbody>\n",
              "    <tr>\n",
              "      <th>0</th>\n",
              "      <td>55000.0</td>\n",
              "      <td>NaN</td>\n",
              "      <td>0.0</td>\n",
              "      <td>5.91</td>\n",
              "      <td>NaN</td>\n",
              "      <td>679.0</td>\n",
              "      <td>675.0</td>\n",
              "      <td>3600.0</td>\n",
              "      <td>3600.0</td>\n",
              "      <td>1.0</td>\n",
              "      <td>123.03</td>\n",
              "      <td>13.99</td>\n",
              "      <td>564.0</td>\n",
              "      <td>560.0</td>\n",
              "      <td>3600.0</td>\n",
              "      <td>1</td>\n",
              "      <td>30.0</td>\n",
              "      <td>30.0</td>\n",
              "      <td>NaN</td>\n",
              "      <td>7.0</td>\n",
              "      <td>0.0</td>\n",
              "      <td>1</td>\n",
              "      <td>0</td>\n",
              "      <td>0</td>\n",
              "      <td>0</td>\n",
              "      <td>0</td>\n",
              "      <td>0</td>\n",
              "      <td>0</td>\n",
              "      <td>0</td>\n",
              "      <td>0</td>\n",
              "      <td>0</td>\n",
              "      <td>0</td>\n",
              "      <td>0</td>\n",
              "      <td>0</td>\n",
              "      <td>0</td>\n",
              "      <td>0</td>\n",
              "      <td>0</td>\n",
              "      <td>0</td>\n",
              "      <td>0</td>\n",
              "      <td>0</td>\n",
              "      <td>...</td>\n",
              "      <td>0</td>\n",
              "      <td>1</td>\n",
              "      <td>1</td>\n",
              "      <td>0</td>\n",
              "      <td>0</td>\n",
              "      <td>0</td>\n",
              "      <td>0</td>\n",
              "      <td>0</td>\n",
              "      <td>0</td>\n",
              "      <td>0</td>\n",
              "      <td>0</td>\n",
              "      <td>0</td>\n",
              "      <td>0</td>\n",
              "      <td>0</td>\n",
              "      <td>0</td>\n",
              "      <td>0</td>\n",
              "      <td>0</td>\n",
              "      <td>0</td>\n",
              "      <td>0</td>\n",
              "      <td>0</td>\n",
              "      <td>0</td>\n",
              "      <td>0</td>\n",
              "      <td>0</td>\n",
              "      <td>0</td>\n",
              "      <td>0</td>\n",
              "      <td>0</td>\n",
              "      <td>0</td>\n",
              "      <td>0</td>\n",
              "      <td>0</td>\n",
              "      <td>0</td>\n",
              "      <td>0</td>\n",
              "      <td>0</td>\n",
              "      <td>0</td>\n",
              "      <td>0</td>\n",
              "      <td>0</td>\n",
              "      <td>0</td>\n",
              "      <td>0</td>\n",
              "      <td>1</td>\n",
              "      <td>0</td>\n",
              "      <td>0</td>\n",
              "    </tr>\n",
              "    <tr>\n",
              "      <th>1</th>\n",
              "      <td>65000.0</td>\n",
              "      <td>NaN</td>\n",
              "      <td>1.0</td>\n",
              "      <td>16.06</td>\n",
              "      <td>NaN</td>\n",
              "      <td>719.0</td>\n",
              "      <td>715.0</td>\n",
              "      <td>24700.0</td>\n",
              "      <td>24700.0</td>\n",
              "      <td>4.0</td>\n",
              "      <td>820.28</td>\n",
              "      <td>11.99</td>\n",
              "      <td>699.0</td>\n",
              "      <td>695.0</td>\n",
              "      <td>24700.0</td>\n",
              "      <td>1</td>\n",
              "      <td>6.0</td>\n",
              "      <td>NaN</td>\n",
              "      <td>NaN</td>\n",
              "      <td>22.0</td>\n",
              "      <td>0.0</td>\n",
              "      <td>0</td>\n",
              "      <td>1</td>\n",
              "      <td>0</td>\n",
              "      <td>0</td>\n",
              "      <td>0</td>\n",
              "      <td>0</td>\n",
              "      <td>0</td>\n",
              "      <td>0</td>\n",
              "      <td>0</td>\n",
              "      <td>0</td>\n",
              "      <td>0</td>\n",
              "      <td>0</td>\n",
              "      <td>0</td>\n",
              "      <td>0</td>\n",
              "      <td>0</td>\n",
              "      <td>0</td>\n",
              "      <td>0</td>\n",
              "      <td>0</td>\n",
              "      <td>0</td>\n",
              "      <td>...</td>\n",
              "      <td>0</td>\n",
              "      <td>1</td>\n",
              "      <td>0</td>\n",
              "      <td>1</td>\n",
              "      <td>0</td>\n",
              "      <td>0</td>\n",
              "      <td>0</td>\n",
              "      <td>0</td>\n",
              "      <td>0</td>\n",
              "      <td>0</td>\n",
              "      <td>0</td>\n",
              "      <td>0</td>\n",
              "      <td>0</td>\n",
              "      <td>0</td>\n",
              "      <td>0</td>\n",
              "      <td>0</td>\n",
              "      <td>0</td>\n",
              "      <td>0</td>\n",
              "      <td>0</td>\n",
              "      <td>0</td>\n",
              "      <td>0</td>\n",
              "      <td>0</td>\n",
              "      <td>0</td>\n",
              "      <td>0</td>\n",
              "      <td>0</td>\n",
              "      <td>0</td>\n",
              "      <td>0</td>\n",
              "      <td>0</td>\n",
              "      <td>0</td>\n",
              "      <td>0</td>\n",
              "      <td>0</td>\n",
              "      <td>0</td>\n",
              "      <td>0</td>\n",
              "      <td>0</td>\n",
              "      <td>0</td>\n",
              "      <td>0</td>\n",
              "      <td>0</td>\n",
              "      <td>1</td>\n",
              "      <td>0</td>\n",
              "      <td>0</td>\n",
              "    </tr>\n",
              "    <tr>\n",
              "      <th>2</th>\n",
              "      <td>63000.0</td>\n",
              "      <td>71000.0</td>\n",
              "      <td>0.0</td>\n",
              "      <td>10.78</td>\n",
              "      <td>13.85</td>\n",
              "      <td>699.0</td>\n",
              "      <td>695.0</td>\n",
              "      <td>20000.0</td>\n",
              "      <td>20000.0</td>\n",
              "      <td>0.0</td>\n",
              "      <td>432.66</td>\n",
              "      <td>10.78</td>\n",
              "      <td>704.0</td>\n",
              "      <td>700.0</td>\n",
              "      <td>20000.0</td>\n",
              "      <td>1</td>\n",
              "      <td>NaN</td>\n",
              "      <td>NaN</td>\n",
              "      <td>NaN</td>\n",
              "      <td>6.0</td>\n",
              "      <td>0.0</td>\n",
              "      <td>0</td>\n",
              "      <td>0</td>\n",
              "      <td>1</td>\n",
              "      <td>0</td>\n",
              "      <td>0</td>\n",
              "      <td>0</td>\n",
              "      <td>0</td>\n",
              "      <td>0</td>\n",
              "      <td>0</td>\n",
              "      <td>0</td>\n",
              "      <td>0</td>\n",
              "      <td>0</td>\n",
              "      <td>0</td>\n",
              "      <td>0</td>\n",
              "      <td>0</td>\n",
              "      <td>0</td>\n",
              "      <td>0</td>\n",
              "      <td>0</td>\n",
              "      <td>0</td>\n",
              "      <td>...</td>\n",
              "      <td>0</td>\n",
              "      <td>1</td>\n",
              "      <td>0</td>\n",
              "      <td>0</td>\n",
              "      <td>1</td>\n",
              "      <td>0</td>\n",
              "      <td>0</td>\n",
              "      <td>0</td>\n",
              "      <td>0</td>\n",
              "      <td>0</td>\n",
              "      <td>0</td>\n",
              "      <td>0</td>\n",
              "      <td>0</td>\n",
              "      <td>0</td>\n",
              "      <td>0</td>\n",
              "      <td>0</td>\n",
              "      <td>0</td>\n",
              "      <td>0</td>\n",
              "      <td>0</td>\n",
              "      <td>0</td>\n",
              "      <td>0</td>\n",
              "      <td>0</td>\n",
              "      <td>0</td>\n",
              "      <td>0</td>\n",
              "      <td>0</td>\n",
              "      <td>0</td>\n",
              "      <td>0</td>\n",
              "      <td>0</td>\n",
              "      <td>0</td>\n",
              "      <td>0</td>\n",
              "      <td>0</td>\n",
              "      <td>0</td>\n",
              "      <td>0</td>\n",
              "      <td>0</td>\n",
              "      <td>0</td>\n",
              "      <td>0</td>\n",
              "      <td>0</td>\n",
              "      <td>0</td>\n",
              "      <td>1</td>\n",
              "      <td>0</td>\n",
              "    </tr>\n",
              "    <tr>\n",
              "      <th>3</th>\n",
              "      <td>104433.0</td>\n",
              "      <td>NaN</td>\n",
              "      <td>1.0</td>\n",
              "      <td>25.37</td>\n",
              "      <td>NaN</td>\n",
              "      <td>699.0</td>\n",
              "      <td>695.0</td>\n",
              "      <td>10400.0</td>\n",
              "      <td>10400.0</td>\n",
              "      <td>3.0</td>\n",
              "      <td>289.91</td>\n",
              "      <td>22.45</td>\n",
              "      <td>704.0</td>\n",
              "      <td>700.0</td>\n",
              "      <td>10400.0</td>\n",
              "      <td>1</td>\n",
              "      <td>12.0</td>\n",
              "      <td>NaN</td>\n",
              "      <td>NaN</td>\n",
              "      <td>12.0</td>\n",
              "      <td>0.0</td>\n",
              "      <td>1</td>\n",
              "      <td>0</td>\n",
              "      <td>0</td>\n",
              "      <td>0</td>\n",
              "      <td>0</td>\n",
              "      <td>0</td>\n",
              "      <td>0</td>\n",
              "      <td>0</td>\n",
              "      <td>0</td>\n",
              "      <td>0</td>\n",
              "      <td>0</td>\n",
              "      <td>0</td>\n",
              "      <td>0</td>\n",
              "      <td>0</td>\n",
              "      <td>0</td>\n",
              "      <td>0</td>\n",
              "      <td>0</td>\n",
              "      <td>0</td>\n",
              "      <td>0</td>\n",
              "      <td>...</td>\n",
              "      <td>0</td>\n",
              "      <td>1</td>\n",
              "      <td>0</td>\n",
              "      <td>0</td>\n",
              "      <td>0</td>\n",
              "      <td>1</td>\n",
              "      <td>0</td>\n",
              "      <td>0</td>\n",
              "      <td>0</td>\n",
              "      <td>0</td>\n",
              "      <td>0</td>\n",
              "      <td>0</td>\n",
              "      <td>0</td>\n",
              "      <td>0</td>\n",
              "      <td>0</td>\n",
              "      <td>0</td>\n",
              "      <td>0</td>\n",
              "      <td>0</td>\n",
              "      <td>0</td>\n",
              "      <td>0</td>\n",
              "      <td>0</td>\n",
              "      <td>0</td>\n",
              "      <td>0</td>\n",
              "      <td>0</td>\n",
              "      <td>0</td>\n",
              "      <td>0</td>\n",
              "      <td>0</td>\n",
              "      <td>0</td>\n",
              "      <td>0</td>\n",
              "      <td>0</td>\n",
              "      <td>0</td>\n",
              "      <td>0</td>\n",
              "      <td>0</td>\n",
              "      <td>0</td>\n",
              "      <td>0</td>\n",
              "      <td>0</td>\n",
              "      <td>0</td>\n",
              "      <td>0</td>\n",
              "      <td>1</td>\n",
              "      <td>0</td>\n",
              "    </tr>\n",
              "    <tr>\n",
              "      <th>4</th>\n",
              "      <td>34000.0</td>\n",
              "      <td>NaN</td>\n",
              "      <td>0.0</td>\n",
              "      <td>10.20</td>\n",
              "      <td>NaN</td>\n",
              "      <td>694.0</td>\n",
              "      <td>690.0</td>\n",
              "      <td>11950.0</td>\n",
              "      <td>11950.0</td>\n",
              "      <td>0.0</td>\n",
              "      <td>405.18</td>\n",
              "      <td>13.44</td>\n",
              "      <td>759.0</td>\n",
              "      <td>755.0</td>\n",
              "      <td>11950.0</td>\n",
              "      <td>1</td>\n",
              "      <td>NaN</td>\n",
              "      <td>NaN</td>\n",
              "      <td>NaN</td>\n",
              "      <td>5.0</td>\n",
              "      <td>0.0</td>\n",
              "      <td>0</td>\n",
              "      <td>0</td>\n",
              "      <td>0</td>\n",
              "      <td>1</td>\n",
              "      <td>0</td>\n",
              "      <td>0</td>\n",
              "      <td>0</td>\n",
              "      <td>0</td>\n",
              "      <td>0</td>\n",
              "      <td>0</td>\n",
              "      <td>0</td>\n",
              "      <td>0</td>\n",
              "      <td>0</td>\n",
              "      <td>0</td>\n",
              "      <td>0</td>\n",
              "      <td>0</td>\n",
              "      <td>0</td>\n",
              "      <td>0</td>\n",
              "      <td>0</td>\n",
              "      <td>...</td>\n",
              "      <td>0</td>\n",
              "      <td>1</td>\n",
              "      <td>0</td>\n",
              "      <td>0</td>\n",
              "      <td>0</td>\n",
              "      <td>0</td>\n",
              "      <td>1</td>\n",
              "      <td>0</td>\n",
              "      <td>0</td>\n",
              "      <td>0</td>\n",
              "      <td>0</td>\n",
              "      <td>0</td>\n",
              "      <td>0</td>\n",
              "      <td>0</td>\n",
              "      <td>0</td>\n",
              "      <td>0</td>\n",
              "      <td>0</td>\n",
              "      <td>0</td>\n",
              "      <td>0</td>\n",
              "      <td>0</td>\n",
              "      <td>0</td>\n",
              "      <td>0</td>\n",
              "      <td>0</td>\n",
              "      <td>0</td>\n",
              "      <td>0</td>\n",
              "      <td>0</td>\n",
              "      <td>0</td>\n",
              "      <td>0</td>\n",
              "      <td>0</td>\n",
              "      <td>0</td>\n",
              "      <td>0</td>\n",
              "      <td>0</td>\n",
              "      <td>0</td>\n",
              "      <td>0</td>\n",
              "      <td>0</td>\n",
              "      <td>0</td>\n",
              "      <td>0</td>\n",
              "      <td>1</td>\n",
              "      <td>0</td>\n",
              "      <td>0</td>\n",
              "    </tr>\n",
              "  </tbody>\n",
              "</table>\n",
              "<p>5 rows × 147 columns</p>\n",
              "</div>"
            ],
            "text/plain": [
              "   continuous_annual_inc  ...  discrete_is_loan_10000\n",
              "0                55000.0  ...                       0\n",
              "1                65000.0  ...                       0\n",
              "2                63000.0  ...                       0\n",
              "3               104433.0  ...                       0\n",
              "4                34000.0  ...                       0\n",
              "\n",
              "[5 rows x 147 columns]"
            ]
          },
          "metadata": {
            "tags": []
          },
          "execution_count": 14
        }
      ]
    },
    {
      "cell_type": "code",
      "metadata": {
        "colab": {
          "base_uri": "https://localhost:8080/",
          "height": 253
        },
        "id": "P8vluprQj7LI",
        "outputId": "01325384-852d-45e2-86ed-5398f23414da"
      },
      "source": [
        "train_new.head()"
      ],
      "execution_count": 15,
      "outputs": [
        {
          "output_type": "execute_result",
          "data": {
            "text/html": [
              "<div>\n",
              "<style scoped>\n",
              "    .dataframe tbody tr th:only-of-type {\n",
              "        vertical-align: middle;\n",
              "    }\n",
              "\n",
              "    .dataframe tbody tr th {\n",
              "        vertical-align: top;\n",
              "    }\n",
              "\n",
              "    .dataframe thead th {\n",
              "        text-align: right;\n",
              "    }\n",
              "</style>\n",
              "<table border=\"1\" class=\"dataframe\">\n",
              "  <thead>\n",
              "    <tr style=\"text-align: right;\">\n",
              "      <th></th>\n",
              "      <th>continuous_annual_inc</th>\n",
              "      <th>continuous_annual_inc_joint</th>\n",
              "      <th>continuous_delinq_2yrs</th>\n",
              "      <th>continuous_dti</th>\n",
              "      <th>continuous_dti_joint</th>\n",
              "      <th>continuous_fico_range_high</th>\n",
              "      <th>continuous_fico_range_low</th>\n",
              "      <th>continuous_funded_amnt</th>\n",
              "      <th>continuous_funded_amnt_inv</th>\n",
              "      <th>continuous_inq_last_6mths</th>\n",
              "      <th>continuous_installment</th>\n",
              "      <th>continuous_int_rate</th>\n",
              "      <th>continuous_last_fico_range_high</th>\n",
              "      <th>continuous_last_fico_range_low</th>\n",
              "      <th>continuous_loan_amnt</th>\n",
              "      <th>loan_status</th>\n",
              "      <th>continuous_mths_since_last_delinq</th>\n",
              "      <th>continuous_mths_since_last_major_derog</th>\n",
              "      <th>continuous_mths_since_last_record</th>\n",
              "      <th>continuous_open_acc</th>\n",
              "      <th>continuous_pub_rec</th>\n",
              "      <th>discrete_addr_state_1_one_hot</th>\n",
              "      <th>discrete_addr_state_2_one_hot</th>\n",
              "      <th>discrete_addr_state_3_one_hot</th>\n",
              "      <th>discrete_addr_state_4_one_hot</th>\n",
              "      <th>discrete_addr_state_5_one_hot</th>\n",
              "      <th>discrete_addr_state_6_one_hot</th>\n",
              "      <th>discrete_addr_state_7_one_hot</th>\n",
              "      <th>discrete_addr_state_8_one_hot</th>\n",
              "      <th>discrete_addr_state_9_one_hot</th>\n",
              "      <th>discrete_addr_state_10_one_hot</th>\n",
              "      <th>discrete_addr_state_11_one_hot</th>\n",
              "      <th>discrete_addr_state_12_one_hot</th>\n",
              "      <th>discrete_addr_state_13_one_hot</th>\n",
              "      <th>discrete_addr_state_14_one_hot</th>\n",
              "      <th>discrete_addr_state_15_one_hot</th>\n",
              "      <th>discrete_addr_state_16_one_hot</th>\n",
              "      <th>discrete_addr_state_17_one_hot</th>\n",
              "      <th>discrete_addr_state_18_one_hot</th>\n",
              "      <th>discrete_addr_state_19_one_hot</th>\n",
              "      <th>...</th>\n",
              "      <th>discrete_purpose_12_one_hot</th>\n",
              "      <th>discrete_pymnt_plan_1_one_hot</th>\n",
              "      <th>discrete_sub_grade_1_one_hot</th>\n",
              "      <th>discrete_sub_grade_2_one_hot</th>\n",
              "      <th>discrete_sub_grade_3_one_hot</th>\n",
              "      <th>discrete_sub_grade_4_one_hot</th>\n",
              "      <th>discrete_sub_grade_5_one_hot</th>\n",
              "      <th>discrete_sub_grade_6_one_hot</th>\n",
              "      <th>discrete_sub_grade_7_one_hot</th>\n",
              "      <th>discrete_sub_grade_8_one_hot</th>\n",
              "      <th>discrete_sub_grade_9_one_hot</th>\n",
              "      <th>discrete_sub_grade_10_one_hot</th>\n",
              "      <th>discrete_sub_grade_11_one_hot</th>\n",
              "      <th>discrete_sub_grade_12_one_hot</th>\n",
              "      <th>discrete_sub_grade_13_one_hot</th>\n",
              "      <th>discrete_sub_grade_14_one_hot</th>\n",
              "      <th>discrete_sub_grade_15_one_hot</th>\n",
              "      <th>discrete_sub_grade_16_one_hot</th>\n",
              "      <th>discrete_sub_grade_17_one_hot</th>\n",
              "      <th>discrete_sub_grade_18_one_hot</th>\n",
              "      <th>discrete_sub_grade_19_one_hot</th>\n",
              "      <th>discrete_sub_grade_20_one_hot</th>\n",
              "      <th>discrete_sub_grade_21_one_hot</th>\n",
              "      <th>discrete_sub_grade_22_one_hot</th>\n",
              "      <th>discrete_sub_grade_23_one_hot</th>\n",
              "      <th>discrete_sub_grade_24_one_hot</th>\n",
              "      <th>discrete_sub_grade_25_one_hot</th>\n",
              "      <th>discrete_sub_grade_26_one_hot</th>\n",
              "      <th>discrete_sub_grade_27_one_hot</th>\n",
              "      <th>discrete_sub_grade_28_one_hot</th>\n",
              "      <th>discrete_sub_grade_29_one_hot</th>\n",
              "      <th>discrete_sub_grade_30_one_hot</th>\n",
              "      <th>discrete_sub_grade_31_one_hot</th>\n",
              "      <th>discrete_sub_grade_32_one_hot</th>\n",
              "      <th>discrete_sub_grade_33_one_hot</th>\n",
              "      <th>discrete_sub_grade_34_one_hot</th>\n",
              "      <th>discrete_sub_grade_35_one_hot</th>\n",
              "      <th>discrete_term_1_one_hot</th>\n",
              "      <th>discrete_term_2_one_hot</th>\n",
              "      <th>discrete_is_loan_10000</th>\n",
              "    </tr>\n",
              "  </thead>\n",
              "  <tbody>\n",
              "    <tr>\n",
              "      <th>16272</th>\n",
              "      <td>76000.0</td>\n",
              "      <td>NaN</td>\n",
              "      <td>1.0</td>\n",
              "      <td>7.86</td>\n",
              "      <td>NaN</td>\n",
              "      <td>664.0</td>\n",
              "      <td>660.0</td>\n",
              "      <td>3600.0</td>\n",
              "      <td>3550.0</td>\n",
              "      <td>0.0</td>\n",
              "      <td>119.56</td>\n",
              "      <td>11.99</td>\n",
              "      <td>674.0</td>\n",
              "      <td>670.0</td>\n",
              "      <td>3600.0</td>\n",
              "      <td>1</td>\n",
              "      <td>8.0</td>\n",
              "      <td>NaN</td>\n",
              "      <td>98.0</td>\n",
              "      <td>13.0</td>\n",
              "      <td>1.0</td>\n",
              "      <td>0</td>\n",
              "      <td>0</td>\n",
              "      <td>0</td>\n",
              "      <td>0</td>\n",
              "      <td>0</td>\n",
              "      <td>0</td>\n",
              "      <td>0</td>\n",
              "      <td>0</td>\n",
              "      <td>1</td>\n",
              "      <td>0</td>\n",
              "      <td>0</td>\n",
              "      <td>0</td>\n",
              "      <td>0</td>\n",
              "      <td>0</td>\n",
              "      <td>0</td>\n",
              "      <td>0</td>\n",
              "      <td>0</td>\n",
              "      <td>0</td>\n",
              "      <td>0</td>\n",
              "      <td>...</td>\n",
              "      <td>0</td>\n",
              "      <td>1</td>\n",
              "      <td>0</td>\n",
              "      <td>1</td>\n",
              "      <td>0</td>\n",
              "      <td>0</td>\n",
              "      <td>0</td>\n",
              "      <td>0</td>\n",
              "      <td>0</td>\n",
              "      <td>0</td>\n",
              "      <td>0</td>\n",
              "      <td>0</td>\n",
              "      <td>0</td>\n",
              "      <td>0</td>\n",
              "      <td>0</td>\n",
              "      <td>0</td>\n",
              "      <td>0</td>\n",
              "      <td>0</td>\n",
              "      <td>0</td>\n",
              "      <td>0</td>\n",
              "      <td>0</td>\n",
              "      <td>0</td>\n",
              "      <td>0</td>\n",
              "      <td>0</td>\n",
              "      <td>0</td>\n",
              "      <td>0</td>\n",
              "      <td>0</td>\n",
              "      <td>0</td>\n",
              "      <td>0</td>\n",
              "      <td>0</td>\n",
              "      <td>0</td>\n",
              "      <td>0</td>\n",
              "      <td>0</td>\n",
              "      <td>0</td>\n",
              "      <td>0</td>\n",
              "      <td>0</td>\n",
              "      <td>0</td>\n",
              "      <td>1</td>\n",
              "      <td>0</td>\n",
              "      <td>0</td>\n",
              "    </tr>\n",
              "    <tr>\n",
              "      <th>16190</th>\n",
              "      <td>140000.0</td>\n",
              "      <td>NaN</td>\n",
              "      <td>0.0</td>\n",
              "      <td>11.62</td>\n",
              "      <td>NaN</td>\n",
              "      <td>724.0</td>\n",
              "      <td>720.0</td>\n",
              "      <td>28000.0</td>\n",
              "      <td>28000.0</td>\n",
              "      <td>0.0</td>\n",
              "      <td>843.22</td>\n",
              "      <td>5.32</td>\n",
              "      <td>804.0</td>\n",
              "      <td>800.0</td>\n",
              "      <td>28000.0</td>\n",
              "      <td>1</td>\n",
              "      <td>NaN</td>\n",
              "      <td>NaN</td>\n",
              "      <td>NaN</td>\n",
              "      <td>7.0</td>\n",
              "      <td>0.0</td>\n",
              "      <td>0</td>\n",
              "      <td>0</td>\n",
              "      <td>0</td>\n",
              "      <td>0</td>\n",
              "      <td>0</td>\n",
              "      <td>0</td>\n",
              "      <td>0</td>\n",
              "      <td>0</td>\n",
              "      <td>0</td>\n",
              "      <td>0</td>\n",
              "      <td>0</td>\n",
              "      <td>0</td>\n",
              "      <td>0</td>\n",
              "      <td>0</td>\n",
              "      <td>0</td>\n",
              "      <td>0</td>\n",
              "      <td>0</td>\n",
              "      <td>0</td>\n",
              "      <td>0</td>\n",
              "      <td>...</td>\n",
              "      <td>0</td>\n",
              "      <td>1</td>\n",
              "      <td>0</td>\n",
              "      <td>0</td>\n",
              "      <td>0</td>\n",
              "      <td>0</td>\n",
              "      <td>0</td>\n",
              "      <td>0</td>\n",
              "      <td>0</td>\n",
              "      <td>0</td>\n",
              "      <td>0</td>\n",
              "      <td>0</td>\n",
              "      <td>0</td>\n",
              "      <td>0</td>\n",
              "      <td>0</td>\n",
              "      <td>0</td>\n",
              "      <td>1</td>\n",
              "      <td>0</td>\n",
              "      <td>0</td>\n",
              "      <td>0</td>\n",
              "      <td>0</td>\n",
              "      <td>0</td>\n",
              "      <td>0</td>\n",
              "      <td>0</td>\n",
              "      <td>0</td>\n",
              "      <td>0</td>\n",
              "      <td>0</td>\n",
              "      <td>0</td>\n",
              "      <td>0</td>\n",
              "      <td>0</td>\n",
              "      <td>0</td>\n",
              "      <td>0</td>\n",
              "      <td>0</td>\n",
              "      <td>0</td>\n",
              "      <td>0</td>\n",
              "      <td>0</td>\n",
              "      <td>0</td>\n",
              "      <td>1</td>\n",
              "      <td>0</td>\n",
              "      <td>0</td>\n",
              "    </tr>\n",
              "    <tr>\n",
              "      <th>11708</th>\n",
              "      <td>40000.0</td>\n",
              "      <td>NaN</td>\n",
              "      <td>0.0</td>\n",
              "      <td>14.91</td>\n",
              "      <td>NaN</td>\n",
              "      <td>684.0</td>\n",
              "      <td>680.0</td>\n",
              "      <td>7000.0</td>\n",
              "      <td>7000.0</td>\n",
              "      <td>0.0</td>\n",
              "      <td>234.48</td>\n",
              "      <td>12.59</td>\n",
              "      <td>529.0</td>\n",
              "      <td>525.0</td>\n",
              "      <td>7000.0</td>\n",
              "      <td>0</td>\n",
              "      <td>NaN</td>\n",
              "      <td>NaN</td>\n",
              "      <td>NaN</td>\n",
              "      <td>7.0</td>\n",
              "      <td>0.0</td>\n",
              "      <td>0</td>\n",
              "      <td>0</td>\n",
              "      <td>0</td>\n",
              "      <td>0</td>\n",
              "      <td>0</td>\n",
              "      <td>0</td>\n",
              "      <td>0</td>\n",
              "      <td>0</td>\n",
              "      <td>0</td>\n",
              "      <td>0</td>\n",
              "      <td>0</td>\n",
              "      <td>1</td>\n",
              "      <td>0</td>\n",
              "      <td>0</td>\n",
              "      <td>0</td>\n",
              "      <td>0</td>\n",
              "      <td>0</td>\n",
              "      <td>0</td>\n",
              "      <td>0</td>\n",
              "      <td>...</td>\n",
              "      <td>0</td>\n",
              "      <td>1</td>\n",
              "      <td>0</td>\n",
              "      <td>0</td>\n",
              "      <td>0</td>\n",
              "      <td>0</td>\n",
              "      <td>0</td>\n",
              "      <td>0</td>\n",
              "      <td>0</td>\n",
              "      <td>0</td>\n",
              "      <td>0</td>\n",
              "      <td>1</td>\n",
              "      <td>0</td>\n",
              "      <td>0</td>\n",
              "      <td>0</td>\n",
              "      <td>0</td>\n",
              "      <td>0</td>\n",
              "      <td>0</td>\n",
              "      <td>0</td>\n",
              "      <td>0</td>\n",
              "      <td>0</td>\n",
              "      <td>0</td>\n",
              "      <td>0</td>\n",
              "      <td>0</td>\n",
              "      <td>0</td>\n",
              "      <td>0</td>\n",
              "      <td>0</td>\n",
              "      <td>0</td>\n",
              "      <td>0</td>\n",
              "      <td>0</td>\n",
              "      <td>0</td>\n",
              "      <td>0</td>\n",
              "      <td>0</td>\n",
              "      <td>0</td>\n",
              "      <td>0</td>\n",
              "      <td>0</td>\n",
              "      <td>0</td>\n",
              "      <td>1</td>\n",
              "      <td>0</td>\n",
              "      <td>0</td>\n",
              "    </tr>\n",
              "    <tr>\n",
              "      <th>17420</th>\n",
              "      <td>48000.0</td>\n",
              "      <td>NaN</td>\n",
              "      <td>0.0</td>\n",
              "      <td>16.45</td>\n",
              "      <td>NaN</td>\n",
              "      <td>669.0</td>\n",
              "      <td>665.0</td>\n",
              "      <td>19100.0</td>\n",
              "      <td>19100.0</td>\n",
              "      <td>2.0</td>\n",
              "      <td>657.26</td>\n",
              "      <td>14.48</td>\n",
              "      <td>664.0</td>\n",
              "      <td>660.0</td>\n",
              "      <td>19100.0</td>\n",
              "      <td>1</td>\n",
              "      <td>79.0</td>\n",
              "      <td>NaN</td>\n",
              "      <td>77.0</td>\n",
              "      <td>9.0</td>\n",
              "      <td>1.0</td>\n",
              "      <td>0</td>\n",
              "      <td>0</td>\n",
              "      <td>0</td>\n",
              "      <td>0</td>\n",
              "      <td>0</td>\n",
              "      <td>0</td>\n",
              "      <td>0</td>\n",
              "      <td>0</td>\n",
              "      <td>0</td>\n",
              "      <td>0</td>\n",
              "      <td>0</td>\n",
              "      <td>0</td>\n",
              "      <td>0</td>\n",
              "      <td>0</td>\n",
              "      <td>0</td>\n",
              "      <td>0</td>\n",
              "      <td>0</td>\n",
              "      <td>0</td>\n",
              "      <td>0</td>\n",
              "      <td>...</td>\n",
              "      <td>0</td>\n",
              "      <td>1</td>\n",
              "      <td>0</td>\n",
              "      <td>0</td>\n",
              "      <td>0</td>\n",
              "      <td>0</td>\n",
              "      <td>0</td>\n",
              "      <td>0</td>\n",
              "      <td>0</td>\n",
              "      <td>0</td>\n",
              "      <td>0</td>\n",
              "      <td>0</td>\n",
              "      <td>0</td>\n",
              "      <td>0</td>\n",
              "      <td>0</td>\n",
              "      <td>1</td>\n",
              "      <td>0</td>\n",
              "      <td>0</td>\n",
              "      <td>0</td>\n",
              "      <td>0</td>\n",
              "      <td>0</td>\n",
              "      <td>0</td>\n",
              "      <td>0</td>\n",
              "      <td>0</td>\n",
              "      <td>0</td>\n",
              "      <td>0</td>\n",
              "      <td>0</td>\n",
              "      <td>0</td>\n",
              "      <td>0</td>\n",
              "      <td>0</td>\n",
              "      <td>0</td>\n",
              "      <td>0</td>\n",
              "      <td>0</td>\n",
              "      <td>0</td>\n",
              "      <td>0</td>\n",
              "      <td>0</td>\n",
              "      <td>0</td>\n",
              "      <td>1</td>\n",
              "      <td>0</td>\n",
              "      <td>0</td>\n",
              "    </tr>\n",
              "    <tr>\n",
              "      <th>4319</th>\n",
              "      <td>82000.0</td>\n",
              "      <td>NaN</td>\n",
              "      <td>0.0</td>\n",
              "      <td>25.93</td>\n",
              "      <td>NaN</td>\n",
              "      <td>674.0</td>\n",
              "      <td>670.0</td>\n",
              "      <td>1600.0</td>\n",
              "      <td>1600.0</td>\n",
              "      <td>1.0</td>\n",
              "      <td>52.75</td>\n",
              "      <td>11.48</td>\n",
              "      <td>619.0</td>\n",
              "      <td>615.0</td>\n",
              "      <td>1600.0</td>\n",
              "      <td>1</td>\n",
              "      <td>30.0</td>\n",
              "      <td>76.0</td>\n",
              "      <td>51.0</td>\n",
              "      <td>13.0</td>\n",
              "      <td>2.0</td>\n",
              "      <td>0</td>\n",
              "      <td>0</td>\n",
              "      <td>0</td>\n",
              "      <td>0</td>\n",
              "      <td>0</td>\n",
              "      <td>0</td>\n",
              "      <td>0</td>\n",
              "      <td>0</td>\n",
              "      <td>0</td>\n",
              "      <td>0</td>\n",
              "      <td>0</td>\n",
              "      <td>1</td>\n",
              "      <td>0</td>\n",
              "      <td>0</td>\n",
              "      <td>0</td>\n",
              "      <td>0</td>\n",
              "      <td>0</td>\n",
              "      <td>0</td>\n",
              "      <td>0</td>\n",
              "      <td>...</td>\n",
              "      <td>0</td>\n",
              "      <td>1</td>\n",
              "      <td>0</td>\n",
              "      <td>0</td>\n",
              "      <td>0</td>\n",
              "      <td>0</td>\n",
              "      <td>0</td>\n",
              "      <td>0</td>\n",
              "      <td>0</td>\n",
              "      <td>0</td>\n",
              "      <td>1</td>\n",
              "      <td>0</td>\n",
              "      <td>0</td>\n",
              "      <td>0</td>\n",
              "      <td>0</td>\n",
              "      <td>0</td>\n",
              "      <td>0</td>\n",
              "      <td>0</td>\n",
              "      <td>0</td>\n",
              "      <td>0</td>\n",
              "      <td>0</td>\n",
              "      <td>0</td>\n",
              "      <td>0</td>\n",
              "      <td>0</td>\n",
              "      <td>0</td>\n",
              "      <td>0</td>\n",
              "      <td>0</td>\n",
              "      <td>0</td>\n",
              "      <td>0</td>\n",
              "      <td>0</td>\n",
              "      <td>0</td>\n",
              "      <td>0</td>\n",
              "      <td>0</td>\n",
              "      <td>0</td>\n",
              "      <td>0</td>\n",
              "      <td>0</td>\n",
              "      <td>0</td>\n",
              "      <td>1</td>\n",
              "      <td>0</td>\n",
              "      <td>0</td>\n",
              "    </tr>\n",
              "  </tbody>\n",
              "</table>\n",
              "<p>5 rows × 147 columns</p>\n",
              "</div>"
            ],
            "text/plain": [
              "       continuous_annual_inc  ...  discrete_is_loan_10000\n",
              "16272                76000.0  ...                       0\n",
              "16190               140000.0  ...                       0\n",
              "11708                40000.0  ...                       0\n",
              "17420                48000.0  ...                       0\n",
              "4319                 82000.0  ...                       0\n",
              "\n",
              "[5 rows x 147 columns]"
            ]
          },
          "metadata": {
            "tags": []
          },
          "execution_count": 15
        }
      ]
    },
    {
      "cell_type": "code",
      "metadata": {
        "id": "fX23LSX6kExZ"
      },
      "source": [
        "train_new.to_csv(\"train_new.csv\", index=False)"
      ],
      "execution_count": 16,
      "outputs": []
    },
    {
      "cell_type": "code",
      "metadata": {
        "colab": {
          "base_uri": "https://localhost:8080/"
        },
        "id": "AcVwSSC1oEIR",
        "outputId": "093a2785-0431-4393-9f06-703a61ffe7ba"
      },
      "source": [
        "len(train_new.columns.to_list())"
      ],
      "execution_count": 17,
      "outputs": [
        {
          "output_type": "execute_result",
          "data": {
            "text/plain": [
              "147"
            ]
          },
          "metadata": {
            "tags": []
          },
          "execution_count": 17
        }
      ]
    },
    {
      "cell_type": "code",
      "metadata": {
        "id": "wQg1d-1Kkk_7"
      },
      "source": [
        "import io\n",
        "import multiprocessing\n",
        "from contextlib import redirect_stdout\n",
        "from copy import deepcopy\n",
        "from dataclasses import dataclass, asdict\n",
        "import hyperopt.pyll\n",
        "from hyperopt import fmin, tpe, hp\n",
        "import numpy as np\n",
        "import lightgbm as lgb\n",
        "from sklearn.metrics import accuracy_score\n",
        "from sklearn.metrics import f1_score\n",
        "from sklearn.metrics import precision_score\n",
        "from sklearn.metrics import recall_score\n",
        "from sklearn.metrics import roc_auc_score\n",
        "import torch\n",
        "\n",
        "import copy\n",
        "cpu_count = 4\n",
        "use_gpu = False\n",
        "@dataclass\n",
        "class LGBOpt:\n",
        "    num_threads: any = hp.choice('num_threads', [cpu_count])\n",
        "    num_leaves: any = hp.choice('num_leaves', [64])\n",
        "    metric: any = hp.choice('metric', ['binary_error'])\n",
        "    num_round: any = hp.choice('num_rounds', [1000])\n",
        "    objective: any = hp.choice('objective', ['binary'])\n",
        "    learning_rate: any = hp.uniform('learning_rate', 0.01, 0.1)\n",
        "    feature_fraction: any = hp.uniform('feature_fraction', 0.5, 1.0)\n",
        "    bagging_fraction: any = hp.uniform('bagging_fraction', 0.8, 1.0)\n",
        "    device_type: any = hp.choice('device_tpye', ['gpu']) if use_gpu else hp.choice('device_type',\n",
        "                                                                                   ['cpu'])\n",
        "    boosting: any = hp.choice('boosting', ['gbdt', 'dart', 'goss'])\n",
        "    extra_trees: any = hp.choice('extra_tress', [False, True])\n",
        "    drop_rate: any = hp.uniform('drop_rate', 0, 0.2)\n",
        "    uniform_drop: any = hp.choice('uniform_drop', [True, False])\n",
        "    lambda_l1: any = hp.uniform('lambda_l1', 0, 10)  # TODO: Check range\n",
        "    lambda_l2: any = hp.uniform('lambda_l2', 0, 10)  # TODO: Check range\n",
        "    min_gain_to_split: any = hp.uniform('min_gain_to_split', 0, 1)  # TODO: Check range\n",
        "    min_data_in_bin = hp.choice('min_data_in_bin', [3, 5, 10, 15, 20, 50])\n",
        "\n",
        "    @staticmethod\n",
        "    def get_common_params():\n",
        "        return {'num_thread': 4, 'num_leaves': 12, 'metric': 'binary', 'objective': 'binary',\n",
        "                'num_round': 1000, 'learning_rate': 0.01, 'feature_fraction': 0.8, 'bagging_fraction': 0.8}\n",
        "    "
      ],
      "execution_count": 18,
      "outputs": []
    },
    {
      "cell_type": "code",
      "metadata": {
        "id": "evKqN5TNkydk"
      },
      "source": [
        "class FitterBase(object):\n",
        "    def __init__(self, label, metric, max_eval=100, opt=None):\n",
        "        self.label = label\n",
        "        self.metric = metric\n",
        "        self.opt_params = dict()\n",
        "        self.max_eval = max_eval\n",
        "        self.opt = opt\n",
        "\n",
        "    def get_loss(self, y, y_pred):\n",
        "        if self.metric == 'error':\n",
        "            return 1 - accuracy_score(y, y_pred)\n",
        "        elif self.metric == 'precision':\n",
        "            return 1 - precision_score(y, y_pred)\n",
        "        elif self.metric == 'recall':\n",
        "            return 1 - recall_score(y, y_pred)\n",
        "        elif self.metric == 'macro_f1':\n",
        "            return 1 - f1_score(y, y_pred, average='macro')\n",
        "        elif self.metric == 'micro_f1':\n",
        "            return 1 - f1_score(y, y_pred, average='micro')\n",
        "        elif self.metric == 'auc':  # TODO: Add a warning checking if y_predict is all [0, 1], it should be probability\n",
        "            return 1 - roc_auc_score(y, y_pred)\n",
        "        else:\n",
        "            raise Exception(\"Not implemented yet.\")"
      ],
      "execution_count": 19,
      "outputs": []
    },
    {
      "cell_type": "code",
      "metadata": {
        "id": "yQIAu7JOk07K"
      },
      "source": [
        "class LGBFitter(FitterBase):\n",
        "    def __init__(self, label='label', metric='error', opt: LGBOpt = None, max_eval=100):\n",
        "        super(LGBFitter, self).__init__(label, metric, max_eval)\n",
        "        if opt is not None:\n",
        "            self.opt = opt\n",
        "        else:\n",
        "            self.opt = LGBOpt()\n",
        "        self.best_round = None\n",
        "        self.clf = None\n",
        "\n",
        "    def train(self, train_df, eval_df, params=None, use_best_eval=True):\n",
        "        self.best_round = None\n",
        "        dtrain = lgb.Dataset(train_df.drop(columns=[self.label]), train_df[self.label])\n",
        "        deval = lgb.Dataset(eval_df.drop(columns=[self.label]), eval_df[self.label])\n",
        "        evallist = [dtrain, deval]\n",
        "        if params is None:\n",
        "            use_params = deepcopy(self.opt_params)\n",
        "        else:\n",
        "            use_params = deepcopy(params)\n",
        "\n",
        "        num_round = use_params.pop('num_round')\n",
        "        if use_best_eval:\n",
        "            with io.StringIO() as buf, redirect_stdout(buf):\n",
        "                self.clf = lgb.train(use_params, dtrain, num_round, valid_sets=evallist)\n",
        "                output = buf.getvalue().split(\"\\n\")\n",
        "            min_error = np.inf\n",
        "            min_index = 0\n",
        "            for idx in range(len(output) - 1):\n",
        "                if len(output[idx].split(\"\\t\")) == 3:\n",
        "                    temp = float(output[idx].split(\"\\t\")[2].split(\":\")[1])\n",
        "                    if min_error > temp:\n",
        "                        min_error = temp\n",
        "                        min_index = int(output[idx].split(\"\\t\")[0][1:-1])\n",
        "            print(\"The minimum is attained in round %d\" % (min_index + 1))\n",
        "            self.best_round = min_index + 1\n",
        "            return output\n",
        "        else:\n",
        "            with io.StringIO() as buf, redirect_stdout(buf):\n",
        "                self.clf = lgb.train(use_params, dtrain, num_round, valid_sets=evallist)\n",
        "                output = buf.getvalue().split(\"\\n\")\n",
        "            self.best_round = num_round\n",
        "            return output\n",
        "\n",
        "    def search(self, train_df, eval_df, use_best_eval=True):\n",
        "        self.opt_params = dict()\n",
        "\n",
        "        def train_impl(params):\n",
        "            self.train(train_df, eval_df, params, use_best_eval)\n",
        "            if self.metric == 'auc':\n",
        "                y_pred = self.clf.predict(eval_df.drop(columns=[self.label]), num_iteration=self.best_round)\n",
        "            else:\n",
        "                y_pred = (self.clf.predict(eval_df.drop(columns=[self.label]),\n",
        "                                           num_iteration=self.best_round) > 0.5).astype(int)\n",
        "            return self.get_loss(eval_df[self.label], y_pred)\n",
        "\n",
        "        self.opt_params = fmin(train_impl, asdict(self.opt), algo=tpe.suggest, max_evals=self.max_eval)\n",
        "\n",
        "    def search_k_fold(self, k_fold, data, use_best_eval=True):\n",
        "        self.opt_params = dict()\n",
        "\n",
        "        def train_impl_nfold(params):\n",
        "            loss = list()\n",
        "            for train_id, eval_id in k_fold.split(data):\n",
        "                train_df = data.loc[train_id]\n",
        "                eval_df = data.loc[eval_id]\n",
        "                self.train(train_df, eval_df, params, use_best_eval)\n",
        "                if self.metric == 'auc':\n",
        "                    y_pred = self.clf.predict(eval_df.drop(columns=[self.label]), num_iteration=self.best_round)\n",
        "                else:\n",
        "                    y_pred = (self.clf.predict(eval_df.drop(columns=[self.label]),\n",
        "                                               num_iteration=self.best_round) > 0.5).astype(int)\n",
        "                loss.append(self.get_loss(eval_df[self.label], y_pred))\n",
        "            return np.mean(loss)\n",
        "\n",
        "        self.opt_params = fmin(train_impl_nfold, asdict(self.opt), algo=tpe.suggest, max_evals=self.max_eval)\n",
        "\n",
        "    def train_k_fold(self, k_fold, train_data, test_data, params=None, drop_test_y=True, use_best_eval=True):\n",
        "        acc_result = list()\n",
        "        train_pred = np.empty(train_data.shape[0])\n",
        "        test_pred = np.empty(test_data.shape[0])\n",
        "        if drop_test_y:\n",
        "            dtest = test_data.drop(columns=self.label)\n",
        "        else:\n",
        "            dtest = test_data\n",
        "\n",
        "        models = list()\n",
        "        for train_id, eval_id in k_fold.split(train_data):\n",
        "            train_df = train_data.loc[train_id]\n",
        "            eval_df = train_data.loc[eval_id]\n",
        "            self.train(train_df, eval_df, params, use_best_eval)\n",
        "            models.append(copy.deepcopy(self.clf))\n",
        "            train_pred[eval_id] = self.clf.predict(eval_df.drop(columns=self.label), num_iteration=self.best_round)\n",
        "            if self.metric == 'auc':\n",
        "                y_pred = self.clf.predict(eval_df.drop(columns=[self.label]), num_iteration=self.best_round)\n",
        "            else:\n",
        "                y_pred = (self.clf.predict(eval_df.drop(columns=[self.label]),\n",
        "                                           num_iteration=self.best_round) > 0.5).astype(int)\n",
        "            acc_result.append(self.get_loss(eval_df[self.label], y_pred))\n",
        "            test_pred += self.clf.predict(dtest, num_iteration=self.best_round)\n",
        "        test_pred /= k_fold.n_splits\n",
        "        return train_pred, test_pred, acc_result, models"
      ],
      "execution_count": 20,
      "outputs": []
    },
    {
      "cell_type": "code",
      "metadata": {
        "id": "RE4cY9D2k4ok"
      },
      "source": [
        "fitter = LGBFitter(label='loan_status')"
      ],
      "execution_count": 21,
      "outputs": []
    },
    {
      "cell_type": "code",
      "metadata": {
        "colab": {
          "base_uri": "https://localhost:8080/"
        },
        "id": "eEsGQ0nmk7ye",
        "outputId": "a92287fc-f0e0-45a2-feea-af8c21a2c9c0"
      },
      "source": [
        "from sklearn.model_selection import KFold\n",
        "kfold = KFold(n_splits=5)\n",
        "for num_leaves in [32]:\n",
        "    params = {'num_thread': 4, 'num_leaves': num_leaves, 'metric': 'binary', 'objective': 'binary',\n",
        "                'num_round': 1000, 'learning_rate': 0.02, 'feature_fraction': 0.8,\n",
        "           'bagging_fraction': 0.8}\n",
        "    train_pred, test_pred, error_rate, models = fitter.train_k_fold(kfold, train_new, test, params = params)\n",
        "    print(params)\n",
        "    print(np.mean(error_rate))"
      ],
      "execution_count": 22,
      "outputs": [
        {
          "output_type": "stream",
          "text": [
            "The minimum is attained in round 419\n",
            "The minimum is attained in round 263\n",
            "The minimum is attained in round 305\n",
            "The minimum is attained in round 271\n",
            "The minimum is attained in round 291\n",
            "{'num_thread': 4, 'num_leaves': 32, 'metric': 'binary', 'objective': 'binary', 'num_round': 1000, 'learning_rate': 0.02, 'feature_fraction': 0.8, 'bagging_fraction': 0.8}\n",
            "0.08116000000000001\n"
          ],
          "name": "stdout"
        }
      ]
    },
    {
      "cell_type": "code",
      "metadata": {
        "colab": {
          "base_uri": "https://localhost:8080/"
        },
        "id": "zP-Ifcjaomi8",
        "outputId": "879d6acf-2b9a-4cb7-a265-36ca8c67c7ff"
      },
      "source": [
        "1 - accuracy_score(test['loan_status'], (test_pred > 0.5).astype(np.int64))"
      ],
      "execution_count": 23,
      "outputs": [
        {
          "output_type": "execute_result",
          "data": {
            "text/plain": [
              "0.08235999999999999"
            ]
          },
          "metadata": {
            "tags": []
          },
          "execution_count": 23
        }
      ]
    },
    {
      "cell_type": "code",
      "metadata": {
        "id": "KyGMRjQWpIjG"
      },
      "source": [
        "TRAIN_INDEX = train_new.shape[0]\n",
        "TEST_INDEX = test.shape[0] + TRAIN_INDEX"
      ],
      "execution_count": 24,
      "outputs": []
    },
    {
      "cell_type": "code",
      "metadata": {
        "id": "Y7fokfshqOdz"
      },
      "source": [
        "data = pd.concat([train_new, test], axis=0)"
      ],
      "execution_count": 25,
      "outputs": []
    },
    {
      "cell_type": "code",
      "metadata": {
        "id": "_TBUp2Y4qN5J"
      },
      "source": [
        "data['discrete_is_loan_10000'] = (data['continuous_loan_amnt']==1).astype(np.int64)"
      ],
      "execution_count": 26,
      "outputs": []
    },
    {
      "cell_type": "code",
      "metadata": {
        "colab": {
          "base_uri": "https://localhost:8080/"
        },
        "id": "auok9TOsqsiT",
        "outputId": "f395269a-bd7e-4dfb-8e95-fae571de2843"
      },
      "source": [
        "data.shape[1]"
      ],
      "execution_count": 27,
      "outputs": [
        {
          "output_type": "execute_result",
          "data": {
            "text/plain": [
              "147"
            ]
          },
          "metadata": {
            "tags": []
          },
          "execution_count": 27
        }
      ]
    },
    {
      "cell_type": "code",
      "metadata": {
        "id": "iMAOQmsvqU29"
      },
      "source": [
        "train_add = data.iloc[0:TRAIN_INDEX, :]\n",
        "test_add = data.iloc[TRAIN_INDEX:TEST_INDEX, :]"
      ],
      "execution_count": 28,
      "outputs": []
    },
    {
      "cell_type": "code",
      "metadata": {
        "colab": {
          "base_uri": "https://localhost:8080/"
        },
        "id": "IH21Cm6cqcIF",
        "outputId": "b5085282-9a14-48dc-e8dd-d01471fed119"
      },
      "source": [
        "from sklearn.model_selection import KFold\n",
        "kfold = KFold(n_splits=5)\n",
        "for num_leaves in [32]:\n",
        "    params = {'num_thread': 4, 'num_leaves': num_leaves, 'metric': 'binary', 'objective': 'binary',\n",
        "                'num_round': 1000, 'learning_rate': 0.02, 'feature_fraction': 0.8,\n",
        "           'bagging_fraction': 0.8}\n",
        "    train_pred, test_pred, error_rate, models = fitter.train_k_fold(kfold, train_add, test_add, params = params)\n",
        "    print(params)\n",
        "    print(np.mean(error_rate))"
      ],
      "execution_count": 29,
      "outputs": [
        {
          "output_type": "stream",
          "text": [
            "The minimum is attained in round 406\n",
            "The minimum is attained in round 313\n",
            "The minimum is attained in round 290\n",
            "The minimum is attained in round 261\n",
            "The minimum is attained in round 266\n",
            "{'num_thread': 4, 'num_leaves': 32, 'metric': 'binary', 'objective': 'binary', 'num_round': 1000, 'learning_rate': 0.02, 'feature_fraction': 0.8, 'bagging_fraction': 0.8}\n",
            "0.08104\n"
          ],
          "name": "stdout"
        }
      ]
    },
    {
      "cell_type": "markdown",
      "metadata": {
        "id": "v6Jzqe6whqst"
      },
      "source": [
        "# Why it doesn't work?\n",
        "---\n",
        "In LigthGBM, the algorithm will automatically create binnings. In this case, since about 10% of the \"loan amount\" is exactly $10000, it will automatically fall into a bin. Therefore, adding the additional data will not work.  "
      ]
    },
    {
      "cell_type": "code",
      "metadata": {
        "colab": {
          "base_uri": "https://localhost:8080/"
        },
        "id": "Z0O8odv5lzr9",
        "outputId": "3e8f89d8-a37b-4cfb-e7e3-81d0bf2ff020"
      },
      "source": [
        "# We can find the most important variables in the following ways.\n",
        "features = train_new.drop(columns='loan_status').columns.to_list()\n",
        "importance = models[1].feature_importance(importance_type = 'gain')\n",
        "\n",
        "feautre_importance = sorted(zip(features, importance), key = lambda x : x[1], reverse=True)\n",
        "print(feautre_importance)"
      ],
      "execution_count": 51,
      "outputs": [
        {
          "output_type": "stream",
          "text": [
            "[('continuous_last_fico_range_high', 491499.4841578007), ('continuous_last_fico_range_low', 98149.5388301611), ('discrete_term_1_one_hot', 21600.887171566486), ('continuous_dti', 16397.584515571594), ('continuous_installment', 13121.578148841858), ('continuous_annual_inc', 11530.843480825424), ('continuous_mths_since_last_delinq', 10349.731641590595), ('continuous_int_rate', 8650.100816488266), ('continuous_funded_amnt', 8635.520898461342), ('continuous_fico_range_high', 8444.5760627985), ('continuous_open_acc', 8082.108596801758), ('discrete_term_2_one_hot', 6628.272376000881), ('continuous_mths_since_last_major_derog', 6492.57046598196), ('continuous_mths_since_last_record', 6084.435826301575), ('continuous_funded_amnt_inv', 5174.274967074394), ('discrete_emp_length_12_one_hot', 3707.2046729922295), ('continuous_inq_last_6mths', 2503.0863552093506), ('continuous_fico_range_low', 1933.8615772724152), ('discrete_home_ownership_1_one_hot', 1610.3601933121681), ('discrete_purpose_1_one_hot', 1446.1154725551605), ('discrete_home_ownership_2_one_hot', 1164.5742808580399), ('discrete_emp_length_1_one_hot', 996.3527956008911), ('continuous_delinq_2yrs', 902.1385633945465), ('discrete_sub_grade_10_one_hot', 629.7845376729965), ('discrete_addr_state_9_one_hot', 629.510196685791), ('discrete_purpose_5_one_hot', 627.8589621782303), ('continuous_loan_amnt', 543.1730386018753), ('discrete_addr_state_14_one_hot', 492.624160528183), ('discrete_purpose_3_one_hot', 490.32547998428345), ('discrete_purpose_6_one_hot', 486.77456855773926), ('discrete_addr_state_4_one_hot', 467.66204982995987), ('discrete_addr_state_15_one_hot', 461.3969954252243), ('discrete_emp_length_2_one_hot', 457.6305125951767), ('discrete_sub_grade_3_one_hot', 434.2658109664917), ('discrete_emp_length_10_one_hot', 419.69457376003265), ('discrete_grade_2_one_hot', 416.1259880065918), ('discrete_sub_grade_9_one_hot', 410.22470128536224), ('discrete_addr_state_36_one_hot', 406.7360701560974), ('discrete_grade_1_one_hot', 394.20083832740784), ('continuous_pub_rec', 369.2033187150955), ('discrete_addr_state_16_one_hot', 356.23515939712524), ('discrete_sub_grade_19_one_hot', 355.58398830890656), ('discrete_emp_length_7_one_hot', 338.8695111274719), ('discrete_home_ownership_3_one_hot', 336.62007027864456), ('discrete_emp_length_11_one_hot', 314.0186626315117), ('discrete_emp_length_6_one_hot', 306.20397078990936), ('discrete_addr_state_22_one_hot', 297.46409249305725), ('discrete_sub_grade_6_one_hot', 295.8938398361206), ('discrete_addr_state_27_one_hot', 295.7887005805969), ('discrete_emp_length_8_one_hot', 293.35613989830017), ('discrete_emp_length_3_one_hot', 286.39775907993317), ('discrete_addr_state_3_one_hot', 281.01714050769806), ('discrete_addr_state_37_one_hot', 271.197880923748), ('discrete_grade_5_one_hot', 258.85668992996216), ('discrete_emp_length_4_one_hot', 246.7663996219635), ('discrete_sub_grade_1_one_hot', 243.3883808851242), ('discrete_emp_length_9_one_hot', 231.08742833137512), ('discrete_addr_state_25_one_hot', 229.98065638542175), ('discrete_addr_state_43_one_hot', 225.72202336788177), ('discrete_sub_grade_22_one_hot', 222.76246798038483), ('discrete_addr_state_20_one_hot', 220.4970132112503), ('discrete_addr_state_12_one_hot', 216.8149489760399), ('discrete_sub_grade_18_one_hot', 213.22643089294434), ('discrete_addr_state_8_one_hot', 213.20259070396423), ('discrete_grade_6_one_hot', 206.9860741496086), ('discrete_addr_state_35_one_hot', 202.26431035995483), ('discrete_sub_grade_25_one_hot', 201.03012919425964), ('discrete_sub_grade_14_one_hot', 198.23709154129028), ('discrete_grade_4_one_hot', 194.3899495601654), ('discrete_addr_state_34_one_hot', 192.7466887831688), ('discrete_purpose_9_one_hot', 190.46747267246246), ('discrete_grade_3_one_hot', 186.389630317688), ('discrete_addr_state_23_one_hot', 186.32796120643616), ('discrete_purpose_10_one_hot', 183.89693748950958), ('discrete_sub_grade_5_one_hot', 182.22777998447418), ('discrete_sub_grade_26_one_hot', 181.75526851415634), ('discrete_emp_length_5_one_hot', 180.64385837316513), ('discrete_addr_state_1_one_hot', 180.44456386566162), ('discrete_addr_state_31_one_hot', 178.87001931667328), ('discrete_sub_grade_2_one_hot', 178.40819025039673), ('discrete_addr_state_17_one_hot', 176.71282029151917), ('discrete_addr_state_13_one_hot', 176.26443123817444), ('discrete_addr_state_6_one_hot', 171.1604681611061), ('discrete_addr_state_11_one_hot', 164.51238811016083), ('discrete_sub_grade_11_one_hot', 163.51150941848755), ('discrete_sub_grade_16_one_hot', 162.6418309211731), ('discrete_addr_state_45_one_hot', 159.00724935531616), ('continuous_dti_joint', 157.00588715076447), ('discrete_addr_state_46_one_hot', 153.92275071144104), ('discrete_addr_state_33_one_hot', 153.07764983177185), ('discrete_sub_grade_8_one_hot', 148.5431398153305), ('discrete_sub_grade_13_one_hot', 143.45469665527344), ('discrete_sub_grade_12_one_hot', 142.15404963493347), ('discrete_sub_grade_7_one_hot', 139.71453952789307), ('discrete_sub_grade_20_one_hot', 136.86387991905212), ('discrete_addr_state_18_one_hot', 132.50314950942993), ('discrete_addr_state_5_one_hot', 122.88212847709656), ('discrete_purpose_4_one_hot', 120.86237955093384), ('discrete_addr_state_10_one_hot', 117.76361966133118), ('discrete_addr_state_19_one_hot', 116.59679055213928), ('discrete_sub_grade_24_one_hot', 112.39178085327148), ('discrete_purpose_8_one_hot', 87.45765125751495), ('discrete_addr_state_29_one_hot', 85.04127407073975), ('discrete_sub_grade_23_one_hot', 82.39633250236511), ('discrete_sub_grade_29_one_hot', 81.33995914459229), ('discrete_purpose_2_one_hot', 76.48277044296265), ('discrete_addr_state_39_one_hot', 71.15677952766418), ('continuous_annual_inc_joint', 68.87216675281525), ('discrete_sub_grade_15_one_hot', 66.19930982589722), ('discrete_addr_state_40_one_hot', 64.37904316186905), ('discrete_addr_state_24_one_hot', 63.15704196691513), ('discrete_addr_state_32_one_hot', 60.59399592876434), ('discrete_addr_state_7_one_hot', 58.60967844724655), ('discrete_sub_grade_28_one_hot', 52.803449869155884), ('discrete_addr_state_28_one_hot', 50.03590965270996), ('discrete_sub_grade_33_one_hot', 49.24689817428589), ('discrete_sub_grade_4_one_hot', 43.4271439909935), ('discrete_addr_state_44_one_hot', 32.11037039756775), ('discrete_purpose_7_one_hot', 31.157950222492218), ('discrete_purpose_11_one_hot', 24.160420179367065), ('discrete_addr_state_41_one_hot', 23.288938760757446), ('discrete_sub_grade_27_one_hot', 20.486295104026794), ('discrete_addr_state_47_one_hot', 17.407210111618042), ('discrete_sub_grade_21_one_hot', 15.764720439910889), ('discrete_addr_state_30_one_hot', 14.366090893745422), ('discrete_addr_state_21_one_hot', 9.648840188980103), ('discrete_addr_state_38_one_hot', 6.7628700733184814), ('discrete_addr_state_2_one_hot', 6.61749005317688), ('discrete_sub_grade_30_one_hot', 3.1648980379104614), ('discrete_sub_grade_17_one_hot', 2.7926700115203857), ('discrete_sub_grade_34_one_hot', 2.375770092010498), ('discrete_addr_state_26_one_hot', 0.0), ('discrete_addr_state_42_one_hot', 0.0), ('discrete_addr_state_48_one_hot', 0.0), ('discrete_addr_state_49_one_hot', 0.0), ('discrete_application_type_1_one_hot', 0.0), ('discrete_application_type_2_one_hot', 0.0), ('discrete_grade_7_one_hot', 0.0), ('discrete_home_ownership_4_one_hot', 0.0), ('discrete_policy_code_1_one_hot', 0.0), ('discrete_purpose_12_one_hot', 0.0), ('discrete_pymnt_plan_1_one_hot', 0.0), ('discrete_sub_grade_31_one_hot', 0.0), ('discrete_sub_grade_32_one_hot', 0.0), ('discrete_sub_grade_35_one_hot', 0.0), ('discrete_is_loan_10000', 0.0)]\n"
          ],
          "name": "stdout"
        }
      ]
    },
    {
      "cell_type": "markdown",
      "metadata": {
        "id": "BAgbwvByjD0a"
      },
      "source": [
        "# SHAP and force plots\n",
        "---\n",
        "In this code snippet, we demonstrate the process of using SHAP values and force plots to examine the cause of bad cases. Additional information can be found [here](https://shap.readthedocs.io/en/latest/example_notebooks/tabular_examples/tree_based_models/Census%20income%20classification%20with%20LightGBM.html)."
      ]
    },
    {
      "cell_type": "code",
      "metadata": {
        "colab": {
          "base_uri": "https://localhost:8080/"
        },
        "id": "DV3qmnFRjk4b",
        "outputId": "0feae595-492b-4d86-e216-1ea127de69e8"
      },
      "source": [
        "!pip install shap"
      ],
      "execution_count": 30,
      "outputs": [
        {
          "output_type": "stream",
          "text": [
            "Requirement already satisfied: shap in /usr/local/lib/python3.7/dist-packages (0.39.0)\n",
            "Requirement already satisfied: tqdm>4.25.0 in /usr/local/lib/python3.7/dist-packages (from shap) (4.41.1)\n",
            "Requirement already satisfied: cloudpickle in /usr/local/lib/python3.7/dist-packages (from shap) (1.3.0)\n",
            "Requirement already satisfied: numpy in /usr/local/lib/python3.7/dist-packages (from shap) (1.19.5)\n",
            "Requirement already satisfied: scikit-learn in /usr/local/lib/python3.7/dist-packages (from shap) (0.22.2.post1)\n",
            "Requirement already satisfied: slicer==0.0.7 in /usr/local/lib/python3.7/dist-packages (from shap) (0.0.7)\n",
            "Requirement already satisfied: scipy in /usr/local/lib/python3.7/dist-packages (from shap) (1.4.1)\n",
            "Requirement already satisfied: pandas in /usr/local/lib/python3.7/dist-packages (from shap) (1.1.5)\n",
            "Requirement already satisfied: numba in /usr/local/lib/python3.7/dist-packages (from shap) (0.51.2)\n",
            "Requirement already satisfied: joblib>=0.11 in /usr/local/lib/python3.7/dist-packages (from scikit-learn->shap) (1.0.1)\n",
            "Requirement already satisfied: pytz>=2017.2 in /usr/local/lib/python3.7/dist-packages (from pandas->shap) (2018.9)\n",
            "Requirement already satisfied: python-dateutil>=2.7.3 in /usr/local/lib/python3.7/dist-packages (from pandas->shap) (2.8.1)\n",
            "Requirement already satisfied: setuptools in /usr/local/lib/python3.7/dist-packages (from numba->shap) (57.0.0)\n",
            "Requirement already satisfied: llvmlite<0.35,>=0.34.0.dev0 in /usr/local/lib/python3.7/dist-packages (from numba->shap) (0.34.0)\n",
            "Requirement already satisfied: six>=1.5 in /usr/local/lib/python3.7/dist-packages (from python-dateutil>=2.7.3->pandas->shap) (1.15.0)\n"
          ],
          "name": "stdout"
        }
      ]
    },
    {
      "cell_type": "code",
      "metadata": {
        "colab": {
          "base_uri": "https://localhost:8080/",
          "height": 345
        },
        "id": "rzF7Z15BkfG9",
        "outputId": "5123329f-2773-4fa2-a6de-e3003300ae7d"
      },
      "source": [
        "import shap\n",
        "explainer = shap.TreeExplainer(models[0])\n",
        "shap_values = explainer.shap_values(train_add.drop(columns='loan_status')) # This will take some time"
      ],
      "execution_count": 46,
      "outputs": [
        {
          "output_type": "error",
          "ename": "KeyboardInterrupt",
          "evalue": "ignored",
          "traceback": [
            "\u001b[0;31m---------------------------------------------------------------------------\u001b[0m",
            "\u001b[0;31mKeyboardInterrupt\u001b[0m                         Traceback (most recent call last)",
            "\u001b[0;32m<ipython-input-46-a70f1267b834>\u001b[0m in \u001b[0;36m<module>\u001b[0;34m()\u001b[0m\n\u001b[1;32m      1\u001b[0m \u001b[0;32mimport\u001b[0m \u001b[0mshap\u001b[0m\u001b[0;34m\u001b[0m\u001b[0;34m\u001b[0m\u001b[0m\n\u001b[1;32m      2\u001b[0m \u001b[0mexplainer\u001b[0m \u001b[0;34m=\u001b[0m \u001b[0mshap\u001b[0m\u001b[0;34m.\u001b[0m\u001b[0mTreeExplainer\u001b[0m\u001b[0;34m(\u001b[0m\u001b[0mmodels\u001b[0m\u001b[0;34m[\u001b[0m\u001b[0;36m0\u001b[0m\u001b[0;34m]\u001b[0m\u001b[0;34m)\u001b[0m\u001b[0;34m\u001b[0m\u001b[0;34m\u001b[0m\u001b[0m\n\u001b[0;32m----> 3\u001b[0;31m \u001b[0mshap_values\u001b[0m \u001b[0;34m=\u001b[0m \u001b[0mexplainer\u001b[0m\u001b[0;34m.\u001b[0m\u001b[0mshap_values\u001b[0m\u001b[0;34m(\u001b[0m\u001b[0mtrain_add\u001b[0m\u001b[0;34m.\u001b[0m\u001b[0mdrop\u001b[0m\u001b[0;34m(\u001b[0m\u001b[0mcolumns\u001b[0m\u001b[0;34m=\u001b[0m\u001b[0;34m'loan_status'\u001b[0m\u001b[0;34m)\u001b[0m\u001b[0;34m)\u001b[0m\u001b[0;34m\u001b[0m\u001b[0;34m\u001b[0m\u001b[0m\n\u001b[0m",
            "\u001b[0;32m/usr/local/lib/python3.7/dist-packages/shap/explainers/_tree.py\u001b[0m in \u001b[0;36mshap_values\u001b[0;34m(self, X, y, tree_limit, approximate, check_additivity, from_call)\u001b[0m\n\u001b[1;32m    343\u001b[0m             \u001b[0;32melif\u001b[0m \u001b[0mself\u001b[0m\u001b[0;34m.\u001b[0m\u001b[0mmodel\u001b[0m\u001b[0;34m.\u001b[0m\u001b[0mmodel_type\u001b[0m \u001b[0;34m==\u001b[0m \u001b[0;34m\"lightgbm\"\u001b[0m\u001b[0;34m:\u001b[0m\u001b[0;34m\u001b[0m\u001b[0;34m\u001b[0m\u001b[0m\n\u001b[1;32m    344\u001b[0m                 \u001b[0;32massert\u001b[0m \u001b[0;32mnot\u001b[0m \u001b[0mapproximate\u001b[0m\u001b[0;34m,\u001b[0m \u001b[0;34m\"approximate=True is not supported for LightGBM models!\"\u001b[0m\u001b[0;34m\u001b[0m\u001b[0;34m\u001b[0m\u001b[0m\n\u001b[0;32m--> 345\u001b[0;31m                 \u001b[0mphi\u001b[0m \u001b[0;34m=\u001b[0m \u001b[0mself\u001b[0m\u001b[0;34m.\u001b[0m\u001b[0mmodel\u001b[0m\u001b[0;34m.\u001b[0m\u001b[0moriginal_model\u001b[0m\u001b[0;34m.\u001b[0m\u001b[0mpredict\u001b[0m\u001b[0;34m(\u001b[0m\u001b[0mX\u001b[0m\u001b[0;34m,\u001b[0m \u001b[0mnum_iteration\u001b[0m\u001b[0;34m=\u001b[0m\u001b[0mtree_limit\u001b[0m\u001b[0;34m,\u001b[0m \u001b[0mpred_contrib\u001b[0m\u001b[0;34m=\u001b[0m\u001b[0;32mTrue\u001b[0m\u001b[0;34m)\u001b[0m\u001b[0;34m\u001b[0m\u001b[0;34m\u001b[0m\u001b[0m\n\u001b[0m\u001b[1;32m    346\u001b[0m                 \u001b[0;31m# Note: the data must be joined on the last axis\u001b[0m\u001b[0;34m\u001b[0m\u001b[0;34m\u001b[0m\u001b[0;34m\u001b[0m\u001b[0m\n\u001b[1;32m    347\u001b[0m                 \u001b[0;32mif\u001b[0m \u001b[0mself\u001b[0m\u001b[0;34m.\u001b[0m\u001b[0mmodel\u001b[0m\u001b[0;34m.\u001b[0m\u001b[0moriginal_model\u001b[0m\u001b[0;34m.\u001b[0m\u001b[0mparams\u001b[0m\u001b[0;34m[\u001b[0m\u001b[0;34m'objective'\u001b[0m\u001b[0;34m]\u001b[0m \u001b[0;34m==\u001b[0m \u001b[0;34m'binary'\u001b[0m\u001b[0;34m:\u001b[0m\u001b[0;34m\u001b[0m\u001b[0;34m\u001b[0m\u001b[0m\n",
            "\u001b[0;32m/usr/local/lib/python3.7/dist-packages/lightgbm/basic.py\u001b[0m in \u001b[0;36mpredict\u001b[0;34m(self, data, num_iteration, raw_score, pred_leaf, pred_contrib, data_has_header, is_reshape, **kwargs)\u001b[0m\n\u001b[1;32m   2201\u001b[0m         return predictor.predict(data, num_iteration,\n\u001b[1;32m   2202\u001b[0m                                  \u001b[0mraw_score\u001b[0m\u001b[0;34m,\u001b[0m \u001b[0mpred_leaf\u001b[0m\u001b[0;34m,\u001b[0m \u001b[0mpred_contrib\u001b[0m\u001b[0;34m,\u001b[0m\u001b[0;34m\u001b[0m\u001b[0;34m\u001b[0m\u001b[0m\n\u001b[0;32m-> 2203\u001b[0;31m                                  data_has_header, is_reshape)\n\u001b[0m\u001b[1;32m   2204\u001b[0m \u001b[0;34m\u001b[0m\u001b[0m\n\u001b[1;32m   2205\u001b[0m     \u001b[0;32mdef\u001b[0m \u001b[0mrefit\u001b[0m\u001b[0;34m(\u001b[0m\u001b[0mself\u001b[0m\u001b[0;34m,\u001b[0m \u001b[0mdata\u001b[0m\u001b[0;34m,\u001b[0m \u001b[0mlabel\u001b[0m\u001b[0;34m,\u001b[0m \u001b[0mdecay_rate\u001b[0m\u001b[0;34m=\u001b[0m\u001b[0;36m0.9\u001b[0m\u001b[0;34m,\u001b[0m \u001b[0;34m**\u001b[0m\u001b[0mkwargs\u001b[0m\u001b[0;34m)\u001b[0m\u001b[0;34m:\u001b[0m\u001b[0;34m\u001b[0m\u001b[0;34m\u001b[0m\u001b[0m\n",
            "\u001b[0;32m/usr/local/lib/python3.7/dist-packages/lightgbm/basic.py\u001b[0m in \u001b[0;36mpredict\u001b[0;34m(self, data, num_iteration, raw_score, pred_leaf, pred_contrib, data_has_header, is_reshape)\u001b[0m\n\u001b[1;32m    465\u001b[0m             \u001b[0mpreds\u001b[0m\u001b[0;34m,\u001b[0m \u001b[0mnrow\u001b[0m \u001b[0;34m=\u001b[0m \u001b[0mself\u001b[0m\u001b[0;34m.\u001b[0m\u001b[0m__pred_for_csc\u001b[0m\u001b[0;34m(\u001b[0m\u001b[0mdata\u001b[0m\u001b[0;34m,\u001b[0m \u001b[0mnum_iteration\u001b[0m\u001b[0;34m,\u001b[0m \u001b[0mpredict_type\u001b[0m\u001b[0;34m)\u001b[0m\u001b[0;34m\u001b[0m\u001b[0;34m\u001b[0m\u001b[0m\n\u001b[1;32m    466\u001b[0m         \u001b[0;32melif\u001b[0m \u001b[0misinstance\u001b[0m\u001b[0;34m(\u001b[0m\u001b[0mdata\u001b[0m\u001b[0;34m,\u001b[0m \u001b[0mnp\u001b[0m\u001b[0;34m.\u001b[0m\u001b[0mndarray\u001b[0m\u001b[0;34m)\u001b[0m\u001b[0;34m:\u001b[0m\u001b[0;34m\u001b[0m\u001b[0;34m\u001b[0m\u001b[0m\n\u001b[0;32m--> 467\u001b[0;31m             \u001b[0mpreds\u001b[0m\u001b[0;34m,\u001b[0m \u001b[0mnrow\u001b[0m \u001b[0;34m=\u001b[0m \u001b[0mself\u001b[0m\u001b[0;34m.\u001b[0m\u001b[0m__pred_for_np2d\u001b[0m\u001b[0;34m(\u001b[0m\u001b[0mdata\u001b[0m\u001b[0;34m,\u001b[0m \u001b[0mnum_iteration\u001b[0m\u001b[0;34m,\u001b[0m \u001b[0mpredict_type\u001b[0m\u001b[0;34m)\u001b[0m\u001b[0;34m\u001b[0m\u001b[0;34m\u001b[0m\u001b[0m\n\u001b[0m\u001b[1;32m    468\u001b[0m         \u001b[0;32melif\u001b[0m \u001b[0misinstance\u001b[0m\u001b[0;34m(\u001b[0m\u001b[0mdata\u001b[0m\u001b[0;34m,\u001b[0m \u001b[0mlist\u001b[0m\u001b[0;34m)\u001b[0m\u001b[0;34m:\u001b[0m\u001b[0;34m\u001b[0m\u001b[0;34m\u001b[0m\u001b[0m\n\u001b[1;32m    469\u001b[0m             \u001b[0;32mtry\u001b[0m\u001b[0;34m:\u001b[0m\u001b[0;34m\u001b[0m\u001b[0;34m\u001b[0m\u001b[0m\n",
            "\u001b[0;32m/usr/local/lib/python3.7/dist-packages/lightgbm/basic.py\u001b[0m in \u001b[0;36m__pred_for_np2d\u001b[0;34m(self, mat, num_iteration, predict_type)\u001b[0m\n\u001b[1;32m    554\u001b[0m             \u001b[0;32mreturn\u001b[0m \u001b[0mpreds\u001b[0m\u001b[0;34m,\u001b[0m \u001b[0mnrow\u001b[0m\u001b[0;34m\u001b[0m\u001b[0;34m\u001b[0m\u001b[0m\n\u001b[1;32m    555\u001b[0m         \u001b[0;32melse\u001b[0m\u001b[0;34m:\u001b[0m\u001b[0;34m\u001b[0m\u001b[0;34m\u001b[0m\u001b[0m\n\u001b[0;32m--> 556\u001b[0;31m             \u001b[0;32mreturn\u001b[0m \u001b[0minner_predict\u001b[0m\u001b[0;34m(\u001b[0m\u001b[0mmat\u001b[0m\u001b[0;34m,\u001b[0m \u001b[0mnum_iteration\u001b[0m\u001b[0;34m,\u001b[0m \u001b[0mpredict_type\u001b[0m\u001b[0;34m)\u001b[0m\u001b[0;34m\u001b[0m\u001b[0;34m\u001b[0m\u001b[0m\n\u001b[0m\u001b[1;32m    557\u001b[0m \u001b[0;34m\u001b[0m\u001b[0m\n\u001b[1;32m    558\u001b[0m     \u001b[0;32mdef\u001b[0m \u001b[0m__pred_for_csr\u001b[0m\u001b[0;34m(\u001b[0m\u001b[0mself\u001b[0m\u001b[0;34m,\u001b[0m \u001b[0mcsr\u001b[0m\u001b[0;34m,\u001b[0m \u001b[0mnum_iteration\u001b[0m\u001b[0;34m,\u001b[0m \u001b[0mpredict_type\u001b[0m\u001b[0;34m)\u001b[0m\u001b[0;34m:\u001b[0m\u001b[0;34m\u001b[0m\u001b[0;34m\u001b[0m\u001b[0m\n",
            "\u001b[0;32m/usr/local/lib/python3.7/dist-packages/lightgbm/basic.py\u001b[0m in \u001b[0;36minner_predict\u001b[0;34m(mat, num_iteration, predict_type, preds)\u001b[0m\n\u001b[1;32m    536\u001b[0m                 \u001b[0mc_str\u001b[0m\u001b[0;34m(\u001b[0m\u001b[0mself\u001b[0m\u001b[0;34m.\u001b[0m\u001b[0mpred_parameter\u001b[0m\u001b[0;34m)\u001b[0m\u001b[0;34m,\u001b[0m\u001b[0;34m\u001b[0m\u001b[0;34m\u001b[0m\u001b[0m\n\u001b[1;32m    537\u001b[0m                 \u001b[0mctypes\u001b[0m\u001b[0;34m.\u001b[0m\u001b[0mbyref\u001b[0m\u001b[0;34m(\u001b[0m\u001b[0mout_num_preds\u001b[0m\u001b[0;34m)\u001b[0m\u001b[0;34m,\u001b[0m\u001b[0;34m\u001b[0m\u001b[0;34m\u001b[0m\u001b[0m\n\u001b[0;32m--> 538\u001b[0;31m                 preds.ctypes.data_as(ctypes.POINTER(ctypes.c_double))))\n\u001b[0m\u001b[1;32m    539\u001b[0m             \u001b[0;32mif\u001b[0m \u001b[0mn_preds\u001b[0m \u001b[0;34m!=\u001b[0m \u001b[0mout_num_preds\u001b[0m\u001b[0;34m.\u001b[0m\u001b[0mvalue\u001b[0m\u001b[0;34m:\u001b[0m\u001b[0;34m\u001b[0m\u001b[0;34m\u001b[0m\u001b[0m\n\u001b[1;32m    540\u001b[0m                 \u001b[0;32mraise\u001b[0m \u001b[0mValueError\u001b[0m\u001b[0;34m(\u001b[0m\u001b[0;34m\"Wrong length for predict results\"\u001b[0m\u001b[0;34m)\u001b[0m\u001b[0;34m\u001b[0m\u001b[0;34m\u001b[0m\u001b[0m\n",
            "\u001b[0;31mKeyboardInterrupt\u001b[0m: "
          ]
        }
      ]
    },
    {
      "cell_type": "code",
      "metadata": {
        "id": "3Af8BlxIlas2"
      },
      "source": [
        "x = train_add.drop(columns='loan_status')\n",
        "shap.force_plot(explainer.expected_value[1], shap_values[1][0,:], x.iloc[0,:])\n"
      ],
      "execution_count": null,
      "outputs": []
    },
    {
      "cell_type": "markdown",
      "metadata": {
        "id": "E3VvpUDTeuZg"
      },
      "source": [
        "# Learning a Bayesian Network\n",
        "---\n",
        "This small example demonstrates how to create a Bayesian Network using R. Pay attention that it is usually desirable to input discretized data! "
      ]
    },
    {
      "cell_type": "code",
      "metadata": {
        "id": "oEaFMU24cPo7"
      },
      "source": [
        "%load_ext rpy2.ipython"
      ],
      "execution_count": 31,
      "outputs": []
    },
    {
      "cell_type": "code",
      "metadata": {
        "id": "0RWfNi0ecS5i",
        "colab": {
          "base_uri": "https://localhost:8080/"
        },
        "outputId": "864329fe-0e4b-4f5a-d8fa-9c560f34bf17"
      },
      "source": [
        "%%R\n",
        "install.packages(\"bnlearn\")"
      ],
      "execution_count": 32,
      "outputs": [
        {
          "output_type": "stream",
          "text": [
            "R[write to console]: Installing package into ‘/usr/local/lib/R/site-library’\n",
            "(as ‘lib’ is unspecified)\n",
            "\n",
            "R[write to console]: trying URL 'https://cran.rstudio.com/src/contrib/bnlearn_4.6.1.tar.gz'\n",
            "\n",
            "R[write to console]: Content type 'application/x-gzip'\n",
            "R[write to console]:  length 1287342 bytes (1.2 MB)\n",
            "\n",
            "R[write to console]: =\n",
            "R[write to console]: =\n",
            "R[write to console]: =\n",
            "R[write to console]: =\n",
            "R[write to console]: =\n",
            "R[write to console]: =\n",
            "R[write to console]: =\n",
            "R[write to console]: =\n",
            "R[write to console]: =\n",
            "R[write to console]: =\n",
            "R[write to console]: =\n",
            "R[write to console]: =\n",
            "R[write to console]: =\n",
            "R[write to console]: =\n",
            "R[write to console]: =\n",
            "R[write to console]: =\n",
            "R[write to console]: =\n",
            "R[write to console]: =\n",
            "R[write to console]: =\n",
            "R[write to console]: =\n",
            "R[write to console]: =\n",
            "R[write to console]: =\n",
            "R[write to console]: =\n",
            "R[write to console]: =\n",
            "R[write to console]: =\n",
            "R[write to console]: =\n",
            "R[write to console]: =\n",
            "R[write to console]: =\n",
            "R[write to console]: =\n",
            "R[write to console]: =\n",
            "R[write to console]: =\n",
            "R[write to console]: =\n",
            "R[write to console]: =\n",
            "R[write to console]: =\n",
            "R[write to console]: =\n",
            "R[write to console]: =\n",
            "R[write to console]: =\n",
            "R[write to console]: =\n",
            "R[write to console]: =\n",
            "R[write to console]: =\n",
            "R[write to console]: =\n",
            "R[write to console]: =\n",
            "R[write to console]: =\n",
            "R[write to console]: =\n",
            "R[write to console]: =\n",
            "R[write to console]: =\n",
            "R[write to console]: =\n",
            "R[write to console]: =\n",
            "R[write to console]: =\n",
            "R[write to console]: =\n",
            "R[write to console]: \n",
            "\n",
            "R[write to console]: downloaded 1.2 MB\n",
            "\n",
            "\n",
            "R[write to console]: \n",
            "\n",
            "R[write to console]: \n",
            "R[write to console]: The downloaded source packages are in\n",
            "\t‘/tmp/RtmpM3bJnt/downloaded_packages’\n",
            "R[write to console]: \n",
            "R[write to console]: \n",
            "\n"
          ],
          "name": "stderr"
        }
      ]
    },
    {
      "cell_type": "code",
      "metadata": {
        "id": "ziXd29IXchw2"
      },
      "source": [
        "%%R\n",
        "library(bnlearn)"
      ],
      "execution_count": 33,
      "outputs": []
    },
    {
      "cell_type": "code",
      "metadata": {
        "id": "x8KmSpQpdEkf"
      },
      "source": [
        "%%R\n",
        "data(marks)"
      ],
      "execution_count": 34,
      "outputs": []
    },
    {
      "cell_type": "code",
      "metadata": {
        "colab": {
          "base_uri": "https://localhost:8080/"
        },
        "id": "tex3LJage5Zv",
        "outputId": "35d4365f-7f51-48ca-f3f4-f5350a38c288"
      },
      "source": [
        "%%R\n",
        "summary(marks)"
      ],
      "execution_count": 35,
      "outputs": [
        {
          "output_type": "stream",
          "text": [
            "      MECH            VECT            ALG             ANL       \n",
            " Min.   : 0.00   Min.   : 9.00   Min.   :15.00   Min.   : 9.00  \n",
            " 1st Qu.:30.00   1st Qu.:42.00   1st Qu.:45.00   1st Qu.:35.75  \n",
            " Median :41.50   Median :51.00   Median :50.00   Median :49.00  \n",
            " Mean   :38.95   Mean   :50.59   Mean   :50.60   Mean   :46.68  \n",
            " 3rd Qu.:49.25   3rd Qu.:60.00   3rd Qu.:57.25   3rd Qu.:57.00  \n",
            " Max.   :77.00   Max.   :82.00   Max.   :80.00   Max.   :70.00  \n",
            "      STAT      \n",
            " Min.   : 9.00  \n",
            " 1st Qu.:31.00  \n",
            " Median :40.00  \n",
            " Mean   :42.31  \n",
            " 3rd Qu.:51.50  \n",
            " Max.   :81.00  \n"
          ],
          "name": "stdout"
        }
      ]
    },
    {
      "cell_type": "code",
      "metadata": {
        "id": "rGwgxHjAe9Gz"
      },
      "source": [
        "%%R\n",
        "bn.gs = gs(marks)"
      ],
      "execution_count": 36,
      "outputs": []
    },
    {
      "cell_type": "code",
      "metadata": {
        "colab": {
          "base_uri": "https://localhost:8080/"
        },
        "id": "CElHBKqbftJU",
        "outputId": "59812214-0b09-4edc-a2ea-6f3d287153e1"
      },
      "source": [
        "%%R\n",
        "bn.gs"
      ],
      "execution_count": 37,
      "outputs": [
        {
          "output_type": "stream",
          "text": [
            "\n",
            "  Bayesian network learned via Constraint-based methods\n",
            "\n",
            "  model:\n",
            "    [undirected graph]\n",
            "  nodes:                                 5 \n",
            "  arcs:                                  6 \n",
            "    undirected arcs:                     6 \n",
            "    directed arcs:                       0 \n",
            "  average markov blanket size:           2.40 \n",
            "  average neighbourhood size:            2.40 \n",
            "  average branching factor:              0.00 \n",
            "\n",
            "  learning algorithm:                    Grow-Shrink \n",
            "  conditional independence test:         Pearson's Correlation \n",
            "  alpha threshold:                       0.05 \n",
            "  tests used in the learning procedure:  80 \n",
            "\n"
          ],
          "name": "stdout"
        }
      ]
    },
    {
      "cell_type": "code",
      "metadata": {
        "colab": {
          "base_uri": "https://localhost:8080/",
          "height": 497
        },
        "id": "TjoqRrDGfuAr",
        "outputId": "c20131b2-0360-4eca-8cf7-0348a8cfa306"
      },
      "source": [
        "%%R\n",
        "plot(bn.gs)"
      ],
      "execution_count": 38,
      "outputs": [
        {
          "output_type": "display_data",
          "data": {
            "image/png": "[encoded data removed]"
          },
          "metadata": {
            "tags": []
          }
        }
      ]
    }
  ]
}